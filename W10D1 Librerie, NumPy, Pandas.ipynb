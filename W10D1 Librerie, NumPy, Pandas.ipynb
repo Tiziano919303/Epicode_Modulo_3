{
 "cells": [
  {
   "cell_type": "code",
   "execution_count": 4,
   "id": "615f1346-af9a-4484-b245-914d38884592",
   "metadata": {},
   "outputs": [
    {
     "name": "stdout",
     "output_type": "stream",
     "text": [
      "8\n",
      "8\n",
      "8\n"
     ]
    }
   ],
   "source": [
    "# Esercizio: Data una lista di liste, che tipo di struttura dati o matematica potrebbe rappresentare?\n",
    "# Notare che tutte le liste \"interne\" sono della stessa dimensione. Come facciamo per accedere a un elemento in particolare?\n",
    "\n",
    "lista = [[0, 1, 2, 3, 4], \n",
    "         [5, 6, 7, 8, 9], \n",
    "         [10, 11, 12, 13, 14]]\n",
    "\n",
    "# Risposta:\n",
    "# Questa lista di liste è una struttura dati 2D, cioè una matrice (array bidimensionale).\n",
    "# Per lavorare in modo efficiente, la convertiamo in un array NumPy:\n",
    "\n",
    "import numpy as np     # Importo NumPy \n",
    "a = np.array(lista)    # Converto la lista in un array\n",
    "\n",
    "# Per accedere a un elemento in NumPy, uso la sintassi [riga, colonna]:\n",
    "print(a[1, 3])    # Risultato: 8 (seconda riga, quarta colonna)\n",
    "\n",
    "# Se invece lavoriamo con Pandas, possiamo convertirla in un DataFrame:\n",
    "\n",
    "import pandas as pd    # Importo Pandas\n",
    "df = pd.DataFrame(lista)    # Converto la lista in un DataFrame\n",
    "\n",
    "# Possiamo accedere allo stesso elemento usando loc o iloc:\n",
    "print(df.loc[1, 3])   # Risultato: 8 (loc usa le etichette delle righe e colonne, in questo caso numeri interi)\n",
    "print(df.iloc[1, 3])  # Risultato: 8 (iloc usa gli indici interi in ordine numerico)\n"
   ]
  },
  {
   "cell_type": "code",
   "execution_count": 8,
   "id": "740387d4-fb0d-4404-bef9-9ea3f6819cf6",
   "metadata": {},
   "outputs": [
    {
     "name": "stdout",
     "output_type": "stream",
     "text": [
      "Vendita massima mensile: 8150\n",
      "Vendita minima mensile: 1280\n",
      "Vendite maggiori di 5000 oggetti: [5500 7200 6410 8150 7100 5350]\n",
      "Numero di mesi con vendite > 5000 oggetti: 6\n",
      "Vendite minori di 3000 oggetti: [2000 1280 1900 2500]\n",
      "Media oggetti venduti al mese: 4634.17\n"
     ]
    }
   ],
   "source": [
    "#Esercizio: L'azienda Object SpA ha creato una lista di quanti oggetti ha venduto ogni mese nell'ultimo anno.\n",
    "#Rispondi alle domande del CEO.\n",
    "\n",
    "import numpy as np    # Importo NumPy\n",
    "\n",
    "lst = [2000, 5500, 7200, 4320, 1280, 1900, 2500, 3900, 6410, 8150, 7100, 5350]    # Lista iniziale delle vendite mensili di oggetti (da gennaio a dicembre)\n",
    "\n",
    "lst = np.array(lst)    # Trasformo la lista in un array NumPy (casting)\n",
    "\n",
    "# Domanda 1: qual è stata la vendita di oggetti massima mensile? E quella minima?\n",
    "massimo = lst.max()    # Trovo il valore massimo dell'array\n",
    "print(\"Vendita massima mensile:\", massimo)\n",
    "\n",
    "minimo = lst.min()    # Trovo il valore minimo dell'array\n",
    "print(\"Vendita minima mensile:\", minimo)\n",
    "\n",
    "# Domanda 2: quali sono le vendite mensili maggiori di 5000 oggetti? E quante ce ne sono?\n",
    "vendite_alte = lst[lst > 5000]    # Filtro le vendite > 5000 oggetti\n",
    "print(\"Vendite maggiori di 5000 oggetti:\", vendite_alte)\n",
    "\n",
    "quante_alte = len(vendite_alte)    # Calcolo quante sono le vendite > 5000 oggetti (quindi il numero di mesi con vendite > 5000 oggetti)\n",
    "print(\"Numero di mesi con vendite > 5000 oggetti:\", quante_alte)\n",
    "\n",
    "# Domanda 3: quali sono le vendite minori di 3000 oggetti?\n",
    "vendite_basse = lst[lst < 3000]    # Filtro le vendite < 3000 oggetti\n",
    "print(\"Vendite minori di 3000 oggetti:\", vendite_basse)\n",
    "\n",
    "#Domanda 4: in media quanti oggetti sono stati venduti al mese?\n",
    "media = lst.mean()    #Calcolo la media dei numeri nella lista\n",
    "print(\"Media oggetti venduti al mese:\", round(media, 2))    #Stampo mostrando un risultato con solo due decimali (più leggibile)\n"
   ]
  },
  {
   "cell_type": "code",
   "execution_count": 14,
   "id": "1c3e632a-eb63-407d-82f4-37fe02d7e369",
   "metadata": {},
   "outputs": [
    {
     "name": "stdout",
     "output_type": "stream",
     "text": [
      "12000\n",
      "12000\n",
      "18375.0\n",
      "25000\n",
      "12000\n",
      "147000\n",
      "2001\n",
      "2000    23000\n",
      "2001    25000\n",
      "2004    21000\n",
      "dtype: int64\n",
      "1998    15000\n",
      "1999    20000\n",
      "2000    23000\n",
      "2001    25000\n",
      "dtype: int64\n",
      "2002    10000\n",
      "2003    18000\n",
      "2004    22000\n",
      "dtype: int64\n",
      "1997        NaN\n",
      "1998        NaN\n",
      "1999        NaN\n",
      "2000        NaN\n",
      "2001        NaN\n",
      "2002    27000.0\n",
      "2003    32000.0\n",
      "2004    43000.0\n",
      "dtype: float64\n"
     ]
    }
   ],
   "source": [
    "#Esercizio: dati un dizionario e una Series con gli stessi elementi e le stesse modalità di accesso ad essi,\n",
    "#qual è la differenza tra i due tipi di dato? Cosa possiamo fare con le Series ma non con il dizionario?\n",
    "\n",
    "#Dizionario\n",
    "fatturati_dict = {1997: 12_000, 1998: 15_000, 1999: 20_000, 2000: 23_000, 2001: 25_000, 2002: 17_000, 2003: 14_000, 2004: 21_000}\n",
    "\n",
    "#Series\n",
    "fatturati_series = pd.Series([12_000, 15_000, 20_000, 23_000, 25_000, 17_000, 14_000, 21_000], index=range(1997, 2005))\n",
    "\n",
    "#Accesso al 1997 in entrambi i casi:\n",
    "print(fatturati_dict[1997])    #Accesso tramite dizionario (output: 1200)\n",
    "print(fatturati_series[1997])    #Accesso tramite Series (output: 1200)\n",
    "\n",
    "#Risposta 1:\n",
    "#Un dizionario (dict) è una struttura dati nativa di Python e non ha metodi per analisi e manipolazione dei dati\n",
    "#Una Series di Pandas (pd.Series) è una struttura dati di Pandas pensata per l'analisi. Contiene metodi, operazioni, filtri, ecc.\n",
    "\n",
    "#Risposta 2:\n",
    "#Azioni eseguibili in modo semplice in Pandas (in un dizionario è molto più complesso eseguirle):\n",
    "print(fatturati_series.mean())      # Media dei fatturati (output: 18375.0)\n",
    "\n",
    "print(fatturati_series.max())        # Fatturato massimo (output: 25000)\n",
    "\n",
    "print(fatturati_series.min())        # Fatturato minimo (output: 12000)\n",
    "\n",
    "print(fatturati_series.sum())        # Somma dei fatturati (output: 147000)\n",
    "\n",
    "print(fatturati_series.idxmax())     # Anno con fatturato massimo (output: 2001)\n",
    "\n",
    "print(fatturati_series[fatturati_series > 20000])    # Query: fatturati maggiori di 20000\n",
    "#output:\n",
    "#2000    23000\n",
    "#2001    25000\n",
    "#2004    21000\n",
    "#dtype: int64\n",
    "\n",
    "print(fatturati_series.loc[1998:2001])    # Seleziona dal 1998 al 2001 (inclusi)\n",
    "#output:\n",
    "#1998    15000\n",
    "#1999    20000\n",
    "#2000    23000\n",
    "#2001    25000\n",
    "#dtype: int64\n",
    "\n",
    "altro_anno = pd.Series([10000, 18000, 22000], index=[2002, 2003, 2004])    # Cerco i fatturati di 2002, 2003 e 2004\n",
    "print(altro_anno)\n",
    "#2002    10000\n",
    "#2003    18000\n",
    "#2004    22000\n",
    "#dtype: int64\n",
    "\n",
    "somma = fatturati_series + altro_anno    # Li aggiungo ai fatturati già in mio possesso\n",
    "print(somma)    # Stampo i fatturati con gli anni 2002, 2003 e 2004 aggiornati\n",
    "#output:\n",
    "#1997        NaN\n",
    "#1998        NaN\n",
    "#1999        NaN\n",
    "#2000        NaN\n",
    "#2001        NaN\n",
    "#2002    27000.0\n",
    "#2003    32000.0\n",
    "#2004    43000.0\n",
    "#dtype: float64"
   ]
  },
  {
   "cell_type": "code",
   "execution_count": 16,
   "id": "4636c910-3732-44cb-a521-e296ba3f40fe",
   "metadata": {},
   "outputs": [
    {
     "name": "stdout",
     "output_type": "stream",
     "text": [
      "[ 200  400  600  800 1000 1200 1400 1600 1800 2000]\n",
      "[ 200  400  600  800 1000 1200 1400 1600 1800 2000]\n"
     ]
    }
   ],
   "source": [
    "#Esercizio: L'azienda Object SpA ha un dataset con tutti gli stipendi dei dipendenti, memorizzato in un ndarray.\n",
    "#L'azienda ci chiede di raddoppiare tutti gli stipendi; farlo usando due metodi: ciclo for e masking.\n",
    "\n",
    "import numpy as np    #Importo NumPy\n",
    "\n",
    "stipendi = np.array([100, 200, 300, 400, 500, 600, 700, 800, 900, 1000])    #Array con stipendi dei dipendenti\n",
    "\n",
    "#Metodo for\n",
    "raddoppiati_for = []    #Creo una lista vuota per gli stipendi raddoppiati\n",
    "\n",
    "for stipendio in stipendi:\n",
    "    raddoppiati_for.append(stipendio * 2)    #Moltiplico ogni elemento dell'array per 2 e lo aggiungo alla lista\n",
    "\n",
    "raddoppiati_for = np.array(raddoppiati_for)    #Converto la lista in un array\n",
    "\n",
    "print(raddoppiati_for)    #Stampo il nuovo array\n",
    "\n",
    "\n",
    "#Masking\n",
    "raddoppiati_np = stipendi * 2    #Moltiplico ogni elemento dell'array per 2\n",
    "print(raddoppiati_np)\n"
   ]
  },
  {
   "cell_type": "code",
   "execution_count": 17,
   "id": "9f582570-78bd-4018-b41b-76ef334aa42a",
   "metadata": {},
   "outputs": [
    {
     "name": "stdout",
     "output_type": "stream",
     "text": [
      "[12, 8, 7]\n",
      "Dopo aver rimosso i duplicati, ci sono meno di 3 numeri unici:\n",
      "[1]\n",
      "La lista contiene meno di 3 elementi. Ecco quelli disponibili:\n",
      "[2]\n",
      "[6, 5, 4]\n"
     ]
    }
   ],
   "source": [
    "#Esercizio: Scrivere un programma che, data una lista di numeri, fornisca in output i tre numeri più grandi.\n",
    "#Gestire il caso in cui la lista sia più corta di tre, e quando uno o più dei numeri selezionati sono uguali.\n",
    "\n",
    "def tre_maggiori(lista):    #Creo una funzione chiamata \"tre_maggiori\" che prenderà in carico una lista di numeri\n",
    "    if len(lista) < 3:     #Se la lista ha meno di 3 elementi\n",
    "        print(\"La lista contiene meno di 3 elementi. Ecco quelli disponibili:\")     #Stampo il messaggio\n",
    "        return sorted(lista, reverse=True)    #Nel messaggio, gli elementi sono ordinati in modo decrescente\n",
    "\n",
    "    # Rimuovo i duplicati per trovare i 3 più grandi *univoci*\n",
    "    unici = list(set(lista))\n",
    "\n",
    "    # Ricontrollo se dopo aver rimosso i duplicati sono rimasti almeno 3 numeri\n",
    "    if len(unici) < 3:\n",
    "        print(\"Dopo aver rimosso i duplicati, ci sono meno di 3 numeri unici:\")\n",
    "        return sorted(unici, reverse=True)\n",
    "\n",
    "    # Ordino in ordine decrescente e prendiamo i primi 3\n",
    "    return sorted(unici, reverse=True)[:3]\n",
    "\n",
    "# Esempi di test\n",
    "print(tre_maggiori([5, 8, 12, 4, 12, 7]))         # [12, 8, 7]\n",
    "print(tre_maggiori([1, 1, 1]))                    # [1]\n",
    "print(tre_maggiori([2]))                          # [2]\n",
    "print(tre_maggiori([5, 3, 5, 3, 4, 6]))           # [6, 5, 4]\n"
   ]
  },
  {
   "cell_type": "code",
   "execution_count": 19,
   "id": "fe351e29-40a8-451c-8d5c-7034e356487f",
   "metadata": {},
   "outputs": [
    {
     "name": "stdin",
     "output_type": "stream",
     "text": [
      "Inserisci una lista di numeri separati da virgola, senza spazi:  8,67,88,456,23,6,2,300\n",
      "Inserisci un numero:  123\n"
     ]
    },
    {
     "name": "stdout",
     "output_type": "stream",
     "text": [
      "La media dei numeri maggiori o uguali a 123 è: 378.00\n"
     ]
    }
   ],
   "source": [
    "#Esercizio: Scrivere un programma che:\n",
    "#in input acquisisce una lista di numeri e un numero K\n",
    "#in output, dovrà restituire la media di tutti i numeri nella lista maggiori o uguali a K\n",
    "#se non ce ne dovesse essere nessuno, dovrà stampare a schermo un messaggio adeguato.\n",
    "\n",
    "input1 = input(\"Inserisci una lista di numeri separati da virgola, senza spazi: \")     #Chiedo all'utente una lista di numeri\n",
    "lista = [int(x.strip()) for x in input1.split(\",\")]    #Dal momento che il primo input sarà una stringa, lo converto in numeri\n",
    "input2 = int(input(\"Inserisci un numero: \"))    #Chiedo un numero K\n",
    "\n",
    "filtrati = [x for x in lista if x >= input2]    #Filtro e seleziono solo i numeri maggiori o uguali a K\n",
    "\n",
    "if filtrati:\n",
    "    media = sum(filtrati) / len(filtrati)    #Calcolo la media dei numeri ≥ K\n",
    "    print(f\"La media dei numeri maggiori o uguali a {input2} è: {media:.2f}\")    #{:.2f} serve a mostrare il numero con soli due numeri decimali\n",
    "else:\n",
    "    print(f\"Nessun numero nella lista è maggiore o uguale a {input2}.\")    #Se non ci sono numeri che soddisfano la condizione, avviso l'utente"
   ]
  },
  {
   "cell_type": "code",
   "execution_count": 20,
   "id": "f121e21a-434f-4a76-84e5-4c8f6c42ad5d",
   "metadata": {},
   "outputs": [
    {
     "name": "stdout",
     "output_type": "stream",
     "text": [
      "*****\n",
      "**\n",
      "***\n",
      "****\n"
     ]
    }
   ],
   "source": [
    "#Esercizio: Scrivere un programma che, data una lista di numeri, come output stamperà lo stesso numero di asterischi su righe diverse,\n",
    "#ottenendo una semplice visualizzazione grafica\n",
    "#Esempio, supponendo di avere il seguente input: numeri = [5, 2, 3, 4] L'output sarà: ***** ** *** ****\n",
    "\n",
    "numeri = [5, 2, 3, 4]\n",
    "\n",
    "for n in numeri:\n",
    "    print(\"*\" * n)\n"
   ]
  },
  {
   "cell_type": "code",
   "execution_count": 21,
   "id": "c082a321-8ff9-4193-a726-6d29bdbf968b",
   "metadata": {},
   "outputs": [
    {
     "name": "stdout",
     "output_type": "stream",
     "text": [
      "Codici fiscali che contengono '95':\n",
      "['ABCDEF95G01A123B', 'STUVWX95Z04A654E', 'DEFGHI95J06A987G']\n",
      "\n",
      "Dettagli (Cognome - Nome):\n",
      "ABC - DEF\n",
      "STU - VWX\n",
      "DEF - GHI\n"
     ]
    }
   ],
   "source": [
    "#Esercizio: Abbiamo una lista di codici fiscali. Trovare i codici fiscali che contengono \"95\", metterli in una lista, e alla fine stamparla;\n",
    "#Per ognuno di essi, stampare a video i caratteri relativi al nome e quelli relativi al cognome.\n",
    "\n",
    "# Lista dei codici fiscali\n",
    "lista_cf = [\"ABCDEF95G01A123B\", \"GHIJKL91M02A321C\", \"MNOPQR89S03A456D\", \n",
    "            \"STUVWX95Z04A654E\", \"XYZABC01D05A789F\", \"DEFGHI95J06A987G\"]\n",
    "\n",
    "# Lista vuota per contenere i codici fiscali che contengono \"95\"\n",
    "cf_con_95 = []\n",
    "\n",
    "# Scorro ogni codice fiscale\n",
    "for cf in lista_cf:\n",
    "    if \"95\" in cf:  # Se uno dei codici fiscali contiene \"95\"\n",
    "        cf_con_95.append(cf)  # Aggiungilo alla lista\n",
    "\n",
    "# Stampo la lista filtrata\n",
    "print(\"Codici fiscali che contengono '95':\")\n",
    "print(cf_con_95)\n",
    "\n",
    "# Stampo nome e cognome da ciascun codice\n",
    "print(\"\\nDettagli (Cognome - Nome):\")\n",
    "for cf in cf_con_95:\n",
    "    cognome = cf[0:3]  # primi 3 caratteri = cognome\n",
    "    nome = cf[3:6]     # successivi 3 caratteri = nome\n",
    "    print(f\"{cognome} - {nome}\")\n"
   ]
  },
  {
   "cell_type": "code",
   "execution_count": 22,
   "id": "dd539c31-98b7-45ee-88ff-1839275f6de5",
   "metadata": {},
   "outputs": [
    {
     "name": "stdout",
     "output_type": "stream",
     "text": [
      "Studenti iscritti alla prima edizione:\n",
      "Alex\n",
      "Faith\n"
     ]
    }
   ],
   "source": [
    "#Esercizio: Abbiamo tre liste della stessa lunghezza, dove ogni elemento nella medesima posizione si riferisce ai dati dello stesso studente.\n",
    "#Stampare a video tutti e soli gli studenti che frequentano una prima edizione; non tutti i dati potrebbero essere necessari.\n",
    "\n",
    "# Liste\n",
    "studenti = [\"Alex\", \"Bob\", \"Cindy\", \"Dan\", \"Emma\", \"Faith\", \"Grace\", \"Henry\"]\n",
    "corsi = [\"Cybersecurity\", \"Data Analyst\", \"Backend\", \"Frontend\", \"Data Analyst\", \"Backend\", \"Frontend\", \"Cybersecurity\"]\n",
    "edizioni = [1, 2, 3, 2, 2, 1, 3, 3]\n",
    "\n",
    "# Stampo solo gli studenti che frequentano la prima edizione\n",
    "print(\"Studenti iscritti alla prima edizione:\")\n",
    "for i in range(len(studenti)):    #Scorro gli indici delle liste\n",
    "    if edizioni[i] == 1:    #Verifico se edizioni == 1\n",
    "        print(studenti[i])"
   ]
  },
  {
   "cell_type": "code",
   "execution_count": 23,
   "id": "48955947-9813-4294-ba65-c2b5554bae51",
   "metadata": {},
   "outputs": [
    {
     "name": "stdout",
     "output_type": "stream",
     "text": [
      "['100 $', '200 $', '500 $', '10 $', '50 $', '70 $']\n"
     ]
    }
   ],
   "source": [
    "#Esercizio: Abbiamo una lista di stringhe di prezzi in dollari, che erroneamente sono stati scritti con il simbolo dell'euro.\n",
    "#Cambiare il simbolo dell'euro (€) in quello del dollaro ($) per ogni stringa nella lista; il risultato sarà memorizzato in un'altra lista.\n",
    "\n",
    "prezzi = [\"100 €\", \"200 €\", \"500 €\", \"10 €\", \"50 €\", \"70 €\"]\n",
    "\n",
    "prezzi_dollari = [p.replace(\"€\", \"$\") for p in prezzi]    #Per ogni elemento in prezzi, uso .replace(\"€\", \"$\") per sostituire il simbolo.\n",
    "\n",
    "print(prezzi_dollari)\n"
   ]
  },
  {
   "cell_type": "code",
   "execution_count": 24,
   "id": "6cd19e88-4aaf-4829-a745-3b6ca37ccfd6",
   "metadata": {},
   "outputs": [
    {
     "name": "stdout",
     "output_type": "stream",
     "text": [
      "Squadra pari: ['Alex', 'Cindy', 'Emma', 'Grace', 'Isabelle']\n",
      "Squadra dispari: ['Bob', 'Dan', 'Faith', 'Henry', 'John']\n"
     ]
    }
   ],
   "source": [
    "#Esercizio: Data una lista di studenti, dividerli in due squadre nel seguente modo:\n",
    "#selezionare i nomi in posizione pari per un squadra e i nomi in posizione dispari per l'altra.\n",
    "#Creiamo due liste per ogni squadra e alla fine visualizziamole.\n",
    "\n",
    "studenti = [\"Alex\", \"Bob\", \"Cindy\", \"Dan\", \"Emma\", \"Faith\", \"Grace\", \"Henry\", \"Isabelle\", \"John\"]\n",
    "\n",
    "squadra_pari = studenti[0::2]    # Uso slicing per prendere gli elementi agli indici pari (0, 2, 4, ...)\n",
    "squadra_dispari = studenti[1::2] # Uso slicing per prendere gli elementi agli indici dispari (1, 3, 5, ...)\n",
    "\n",
    "print(\"Squadra pari:\", squadra_pari)\n",
    "print(\"Squadra dispari:\", squadra_dispari)\n"
   ]
  },
  {
   "cell_type": "code",
   "execution_count": 25,
   "id": "1f63283c-38b1-4e93-8ef5-5179c92e7128",
   "metadata": {},
   "outputs": [
    {
     "name": "stdout",
     "output_type": "stream",
     "text": [
      "Mese 1: 100 €\n",
      "Mese 2: 90 € (media prec: 100.00 € - il guadagno attuale è minore)\n",
      "Mese 3: 70 € (media prec: 95.00 € - il guadagno attuale è minore)\n",
      "Mese 4: 40 € (media prec: 86.67 € - il guadagno attuale è minore)\n",
      "Mese 5: 50 € (media prec: 75.00 € - il guadagno attuale è minore)\n",
      "Mese 6: 80 € (media prec: 70.00 € - il guadagno attuale è maggiore)\n",
      "Mese 7: 90 € (media prec: 71.67 € - il guadagno attuale è maggiore)\n",
      "Mese 8: 120 € (media prec: 74.29 € - il guadagno attuale è maggiore)\n",
      "Mese 9: 80 € (media prec: 80.00 € - il guadagno attuale è minore)\n",
      "Mese 10: 20 € (media prec: 80.00 € - il guadagno attuale è minore)\n",
      "Mese 11: 50 € (media prec: 74.00 € - il guadagno attuale è minore)\n",
      "Mese 12: 50 € (media prec: 71.82 € - il guadagno attuale è minore)\n"
     ]
    }
   ],
   "source": [
    "#Esercizio: Data una lista dei guadagni degli ultimi 12 mesi (da Gennaio a Dicembre):\n",
    "#confrontare, stampando tutto a video, il guadagno di ogni mese con la media dei guadagni precedenti\n",
    "#specificare nell'output se il guadagno attuale è maggiore o minore della media dei precedenti.\n",
    "\n",
    "guadagni = [100, 90, 70, 40, 50, 80, 90, 120, 80, 20, 50, 50]  # Lista dei guadagni\n",
    "\n",
    "for i in range(len(guadagni)):  # Per ogni indice della lista, da 0 a 11\n",
    "    attuale = guadagni[i]       # Salvo il guadagno del mese corrente\n",
    "\n",
    "    if i == 0:                 # Caso primo mese: non ci sono mesi precedenti (Gennaio)\n",
    "        print(f\"Mese {i+1}: {attuale} €\")  # Stampo solo il guadagno senza confronto\n",
    "\n",
    "    else:\n",
    "        # Calcolo la media dei guadagni dei mesi precedenti (da inizio fino a prima di i)\n",
    "        media_prec = sum(guadagni[:i]) / i\n",
    "\n",
    "        # Controllo se il guadagno attuale è maggiore o minore della media precedente\n",
    "        confronto = \"maggiore\" if attuale > media_prec else \"minore\"\n",
    "\n",
    "        # Stampo il risultato con la media formattata a due decimali\n",
    "        print(f\"Mese {i+1}: {attuale} € (media prec: {media_prec:.2f} € - il guadagno attuale è {confronto})\")\n"
   ]
  },
  {
   "cell_type": "code",
   "execution_count": null,
   "id": "d49a3785-75e0-4616-86e5-ccc51bb8debf",
   "metadata": {},
   "outputs": [],
   "source": []
  }
 ],
 "metadata": {
  "kernelspec": {
   "display_name": "Python 3 (ipykernel)",
   "language": "python",
   "name": "python3"
  },
  "language_info": {
   "codemirror_mode": {
    "name": "ipython",
    "version": 3
   },
   "file_extension": ".py",
   "mimetype": "text/x-python",
   "name": "python",
   "nbconvert_exporter": "python",
   "pygments_lexer": "ipython3",
   "version": "3.12.7"
  }
 },
 "nbformat": 4,
 "nbformat_minor": 5
}
