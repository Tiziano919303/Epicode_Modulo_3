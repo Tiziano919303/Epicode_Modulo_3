{
 "cells": [
  {
   "cell_type": "code",
   "execution_count": 27,
   "id": "2ea7f65b-24d8-44ff-b409-4d1afaa54834",
   "metadata": {},
   "outputs": [
    {
     "name": "stdout",
     "output_type": "stream",
     "text": [
      "7\n",
      "E\n",
      "p\n",
      "i\n",
      "c\n",
      "o\n",
      "d\n",
      "e\n"
     ]
    }
   ],
   "source": [
    "#Esercizio 1: Stampo ogni carattere per ogni riga con while\n",
    "nome_scuola = \"Epicode\"    #Creo la variabile\n",
    "contatore = 0     #Inserisco un contatore che mi permette di iniziare a leggere ogni carattere della stringa partendo dal primo, che equivale a 0\n",
    "print(len(nome_scuola))     #Controllo quanti caratteri ci sono in nome_scuola; risultato = 7\n",
    "while contatore < 7:    #\"Finché il contatore è minore di 7...\"\n",
    "    print(nome_scuola[contatore])    #\"...stampo ogni carattere (dato dal contatore) di nome_scuola\"\n",
    "    contatore += 1     #FONDAMENTALE per aumentare il contatore (es: da 0 a 1) ogni volta che si ripete l'azione del while. SE VIENE OMESSO, VA IN LOOP."
   ]
  },
  {
   "cell_type": "code",
   "execution_count": 28,
   "id": "ca829663-8b13-4fd8-a61a-9f3882f467f8",
   "metadata": {},
   "outputs": [
    {
     "name": "stdout",
     "output_type": "stream",
     "text": [
      "0\n",
      "1\n",
      "2\n",
      "3\n",
      "4\n",
      "5\n",
      "6\n",
      "7\n",
      "8\n",
      "9\n",
      "10\n",
      "11\n",
      "12\n",
      "13\n",
      "14\n",
      "15\n",
      "16\n",
      "17\n",
      "18\n",
      "19\n",
      "20\n"
     ]
    }
   ],
   "source": [
    "#Esercizio 2: Stampo i numeri da 0 a 20 usando while\n",
    "num = 0     #Inizializzo la variabile\n",
    "limite = 20     #Molto consigliato perché il limite potrebbe cambiare in futuro\n",
    "while num <= limite:     #\"Finché num è minore o uguale al limite...\"\n",
    "    print(num)     #\"...stampo num...\"\n",
    "    num += 1     #\"...incrementandolo di 1 ad ogni check di while (SE VIENE OMESSO, VA IN LOOP)\""
   ]
  },
  {
   "cell_type": "code",
   "execution_count": 34,
   "id": "651e39aa-0ecb-4871-aef2-48afe2241359",
   "metadata": {},
   "outputs": [
    {
     "name": "stdout",
     "output_type": "stream",
     "text": [
      "2 ^ 0 = 1\n",
      "2 ^ 1 = 2\n",
      "2 ^ 2 = 4\n",
      "2 ^ 3 = 8\n",
      "2 ^ 4 = 16\n",
      "2 ^ 5 = 32\n",
      "2 ^ 6 = 64\n",
      "2 ^ 7 = 128\n",
      "2 ^ 8 = 256\n",
      "2 ^ 9 = 512\n",
      "2 ^ 10 = 1024\n"
     ]
    }
   ],
   "source": [
    "#Esercizio 3: Stampo le prime 10 potenze di 2 usando while (da 2^0 a 2^10)\n",
    "num = 0    #Inizializzo la variabile\n",
    "limite = 10    ##Molto consigliato perché il limite potrebbe cambiare in futuro\n",
    "while num <= limite:     #\"Finché num è minore o uguale a 2^10...\"\n",
    "    potenza = 2 ** num     #\"...creo la variabile \"potenza\" che contiene \"2 elevato al numero che viene checkato da while...\"\n",
    "    print(\"2 ^\", num, \"=\", potenza)     #\"...e stampo \"2 ^ num = potenza\"...\"\n",
    "    num += 1   #Incremento di uno ad ogni check di while (fondamentale)"
   ]
  },
  {
   "cell_type": "code",
   "execution_count": 38,
   "id": "c8580466-ce29-4400-8b26-8fca6909584d",
   "metadata": {},
   "outputs": [
    {
     "name": "stdin",
     "output_type": "stream",
     "text": [
      "Inserire numero: 7\n"
     ]
    },
    {
     "name": "stdout",
     "output_type": "stream",
     "text": [
      "1\n",
      "2\n",
      "4\n",
      "8\n",
      "16\n",
      "32\n",
      "64\n"
     ]
    }
   ],
   "source": [
    "#Esercizio 4: Stampo le prime N potenze di 2 usando while, chiedendo all'utente di inserire N\n",
    "N = int(input(\"Inserire numero:\"))     #Chiedo all'utente di inserire N con un input, convertendo la stringa \"Inserire numero\" in un numero usando int\n",
    "contatore = 0     #Ora che la stringa è un numero, inserisco un contatore per tenere traccia di N\n",
    "while contatore < N:     #\"Finché contatore è minore a N...\"\n",
    "    print(2 ** contatore)     #\"...stampo 2 elevato a contatore...\"\n",
    "    contatore += 1     #\"...incrementandolo di 1 ad ogni check di while\"\n",
    "    "
   ]
  },
  {
   "cell_type": "code",
   "execution_count": 13,
   "id": "f6aea709-7810-4fae-880e-b62ac7648a48",
   "metadata": {},
   "outputs": [
    {
     "name": "stdout",
     "output_type": "stream",
     "text": [
      "1\n",
      "2\n",
      "4\n",
      "8\n",
      "16\n",
      "32\n",
      "64\n",
      "128\n",
      "256\n",
      "512\n",
      "1024\n",
      "2048\n",
      "4096\n",
      "8192\n",
      "16384\n"
     ]
    }
   ],
   "source": [
    "#Esercizio 5: Stampo le potenze di 2 che sono minori di 25000\n",
    "num = 2 ** 0     #Inizializzo variabile\n",
    "while num < 25000:     #\"Finché num è minore di 25000...\"\n",
    "    print(num)     #\"...stampo num...\"\n",
    "    num *= 2     #\"...moltiplicandolo per 2 (aumentandone la potenza) ad ogni check di while\""
   ]
  },
  {
   "cell_type": "code",
   "execution_count": 25,
   "id": "ed27a0f9-230b-4695-a909-01351da70edc",
   "metadata": {},
   "outputs": [
    {
     "name": "stdin",
     "output_type": "stream",
     "text": [
      "Qual è il tuo nome? Vercingetorige\n"
     ]
    },
    {
     "name": "stdout",
     "output_type": "stream",
     "text": [
      "Ver...ige\n"
     ]
    }
   ],
   "source": [
    "#Esercizio 6: Chiedo un input all'utente e ne visualizzo i primi 3 caratteri, seguiti da \"...\" e dagli ultimi 3 caratteri; poi cerco soluzioni nel\n",
    "#caso di input inferiori a 6 caratteri.\n",
    "risposta = input(\"Qual è il tuo nome?\")     #Chiedo all'utente di inserire il suo nome\n",
    "if len(risposta) >= 6:     #Se la risposta è più lunga o uguale a 6 caratteri...\n",
    "    print(risposta[:3] + \"...\" + risposta[-3:])     #...Stampo i primi tre caratteri, i punti di sospensione e gli ultimi 3 caratteri\n",
    "elif len(risposta) >= 2 and len(risposta) <= 5:     #Se invece la risposta è lunga dai 2 ai 5 caratteri...\n",
    "    print(risposta[:1] + \"...\" + risposta[-1:])     #...Stampo il primo carattere, i punti di sospensione e l'ultimo carattere\n",
    "elif len(risposta) == 0:     #Se invece la risposta non presenta alcun carattere...\n",
    "    print(\"Impossibile lasciare campo vuoto\")     #...Stampo \"Impossibile lasciare campo vuoto\"\n",
    "else:     #In tutti gli altri casi (quindi rimane solo lunghezza di 1 carattere)...\n",
    "    print(\"Nome troppo corto\")     #Stampo \"Nome troppo corto\""
   ]
  },
  {
   "cell_type": "code",
   "execution_count": 3,
   "id": "8c787088-d2c1-4dc0-b998-4896685f26f0",
   "metadata": {},
   "outputs": [
    {
     "name": "stdout",
     "output_type": "stream",
     "text": [
      "[2, 3, 5, 5]\n"
     ]
    }
   ],
   "source": [
    "#Esercizio 7: Stampo tutti i numeri primi che, se moltiplicati per se stessi, danno come risultato 150.\n",
    "num = 150     #Creo la variabile 150\n",
    "fattori_primi = []     #Creo una lista vuota che nel print conterrà i fattori primi\n",
    "contatore = 2     #Imposto il contatore assegnandogli il primo numero primo disponibile. Aumenterà ad ogni check di while.\n",
    "\n",
    "while num > 1:     #Finché 150 è maggiore di 1...\n",
    "    if num % contatore == 0:     #...Se il resto della divisione tra 150 e il contatore è 0 (quindi se 150 è divisibile per il contatore)...\n",
    "       fattori_primi.append(contatore)     #...Aggiungo il valore di contatore alla lista vuota...\n",
    "       num = num / contatore     #...E aggiorno num trasformandolo nel risultato di num diviso contatore.\n",
    "    else: contatore += 1     #Altrimenti prova con il numero successivo\n",
    "\n",
    "print(fattori_primi)     #Stampo la lista riempita\n"
   ]
  },
  {
   "cell_type": "code",
   "execution_count": 7,
   "id": "28ef346a-5fcb-4be7-b306-ccb0b37aa6f2",
   "metadata": {},
   "outputs": [
    {
     "name": "stdout",
     "output_type": "stream",
     "text": [
      "E\n",
      "p\n",
      "i\n",
      "c\n",
      "o\n",
      "d\n",
      "e\n"
     ]
    }
   ],
   "source": [
    "#Esercizio 8: Stampo tutti i caratteri della variabile riga dopo riga usando for\n",
    "nome_scuola = \"Epicode\"\n",
    "for ogni_lettera in nome_scuola:     #Prima, for legge la stringa lettera per lettera; ad ogni check di for, la mia variabile temporanea \"ogni_lettera\"\n",
    "                                     #assume il valore della lettera corrente.\n",
    "    print(ogni_lettera)     #Stampo tutte le lettere che vengono lette da for"
   ]
  },
  {
   "cell_type": "code",
   "execution_count": 12,
   "id": "63a214c3-2384-44a2-bc3b-da60dd67503b",
   "metadata": {},
   "outputs": [
    {
     "name": "stdout",
     "output_type": "stream",
     "text": [
      "4\n",
      "8\n",
      "16\n",
      "32\n",
      "64\n",
      "128\n",
      "256\n",
      "512\n",
      "1024\n",
      "2048\n"
     ]
    }
   ],
   "source": [
    "#Esercizio 9: Stampo tutte le prime 10 potenze di 2 usando for\n",
    "contatore = 1     #Tengo traccia della potenza\n",
    "\n",
    "for cassapanca in range(10):   # Per ogni volta che conto da 1 a 10...\n",
    "    contatore += 1   # ...Aumento il contatore ad ogni giro...\n",
    "    potenza = 2 ** contatore     #...E la potenza aumenta con l'aumentare del contatore\n",
    "    print(potenza)    #Per tutte le volte che for ha contato, ne stampo i risultati\n"
   ]
  },
  {
   "cell_type": "code",
   "execution_count": 7,
   "id": "5870ee62-2fc0-4c7a-a266-c8186cda4899",
   "metadata": {},
   "outputs": [
    {
     "name": "stdin",
     "output_type": "stream",
     "text": [
      "Inserisci il numero da elevare a potenza:  5\n",
      "Quante potenze vuoi calcolare?  5\n"
     ]
    },
    {
     "name": "stdout",
     "output_type": "stream",
     "text": [
      "[5, 25, 125, 625, 3125]\n"
     ]
    }
   ],
   "source": [
    "#Esercizio 10: Calcolo le prime N potenze di K e le inserisco a una lista. Chiedo all'utente di inserire gli input. Sia while che for.\n",
    "K = int(input(\"Inserisci il numero da elevare a potenza: \"))     #Primo input\n",
    "N = int(input(\"Quante potenze vuoi calcolare? \"))     #Secondo input\n",
    "contatoreN = 1     #Tengo traccia dei possibili input di N, partendo da 1\n",
    "lista = []     #Creo la lista vuota\n",
    "\n",
    "while contatoreN <= N:     #Finché il contatore di N è minore o uguale a N...\n",
    "    potenza = K ** contatoreN      #...la potenza è data dal primo input elevata al contatore di N...\n",
    "    lista.append(potenza)   #...e ad ogni check aggiungo la potenza alla lista...\n",
    "    contatoreN += 1     #...assicurandomi che il contatore di N aumenti ad ogni check\n",
    "\n",
    "print(lista)     #Stampo la lista\n"
   ]
  },
  {
   "cell_type": "code",
   "execution_count": 8,
   "id": "aac266ee-dd2d-4ffb-b8cb-a91c8bc63075",
   "metadata": {},
   "outputs": [
    {
     "name": "stdin",
     "output_type": "stream",
     "text": [
      "Inserisci il numero da elevare a potenza:  5\n",
      "Quante potenze vuoi calcolare?  5\n"
     ]
    },
    {
     "name": "stdout",
     "output_type": "stream",
     "text": [
      "[5]\n",
      "[5, 25]\n",
      "[5, 25, 125]\n",
      "[5, 25, 125, 625]\n",
      "[5, 25, 125, 625, 3125]\n"
     ]
    }
   ],
   "source": [
    "K = int(input(\"Inserisci il numero da elevare a potenza: \"))     #Primo input\n",
    "N = int(input(\"Quante potenze vuoi calcolare? \"))     #Secondo input\n",
    "lista = []     #Lista vuota\n",
    "for contatore in range(1, N + 1):     #Per ogni volta che conto da 1 al numero inserito in N (N+1 serve ad includere N)...\n",
    "    potenza = K ** contatore     #...la potenza sarà data da K elevato al contatore...\n",
    "    lista.append(potenza)     #...e inserisco la potenza alla lista\n",
    "    print(lista)     #Stampo la lista"
   ]
  },
  {
   "cell_type": "code",
   "execution_count": 13,
   "id": "7cdd7b9c-b8ae-4c3a-9003-93fbfd3a9f64",
   "metadata": {},
   "outputs": [
    {
     "name": "stdout",
     "output_type": "stream",
     "text": [
      "70.0\n"
     ]
    }
   ],
   "source": [
    "#Esercizio 11: Calcolo la media dei guadagni usando for\n",
    "guadagni = [100, 90, 70, 40, 50, 80, 90, 120, 80, 20, 50, 50]     #Lista\n",
    "somma = 0     #Preparo la variabile che conterrà la somma di tutti gli elementi nella lista\n",
    "n_mesi = len(guadagni)     #Calcolo quanti elementi ci sono nella lista (mi servirà per la media)\n",
    "\n",
    "for guadagno in guadagni:     #Ogni volta che faccio un calcolo su ogni elemento nella lista...\n",
    "    somma = guadagno + somma     #...la somma si aggiorna calcolando l'elemento più la somma in quel momento. Si può scrivere anche \"somma += guadagno\".\n",
    "\n",
    "media = somma / n_mesi     #Calcolo e stampo la media\n",
    "print(media)"
   ]
  },
  {
   "cell_type": "code",
   "execution_count": 36,
   "id": "be980aaa-2ce2-4301-a47f-38a0107c9bb8",
   "metadata": {},
   "outputs": [
    {
     "name": "stdout",
     "output_type": "stream",
     "text": [
      "Albergo:  1\n",
      "Sedia:  1\n",
      "Borgo:  0\n",
      "Petalo:  1\n",
      "Eremo:  2\n",
      "Belvedere:  4\n",
      "Semestre:  3\n",
      "Esteta:  2\n",
      "Sosta:  0\n",
      "Orpello:  1\n",
      "Abete:  2\n",
      "Orologio:  0\n",
      "Cesta:  1\n",
      "Ermellino:  2\n"
     ]
    }
   ],
   "source": [
    "#Esercizio 12: Calcolare per ogni parola quante volte appare la lettera E, a prescindere da MAIUSC e MINUSC\n",
    "parole = [\"Albergo\", \"Sedia\", \"Borgo\", \"Petalo\", \"Eremo\", \"Belvedere\", \"Semestre\", \"Esteta\", \"Sosta\", \"Orpello\", \"Abete\", \"Orologio\", \"Cesta\", \"Ermellino\"]\n",
    "\n",
    "for parola in parole:     #Per ogni elemento della lista\n",
    "    minuscola = parola.lower()     #Creo una variabile che contiene ogni elemento trasformato in minuscolo\n",
    "    conteggio_e = minuscola.count(\"e\")     #Creo una seconda variabile che conta quante volte compare \"e\" nella prima variabile\n",
    "    print(parola + \": \", conteggio_e)     #Stampo ogni elemento e la sconda variabile, quella che contiene il conteggio di quante volte compare \"e\"\n"
   ]
  },
  {
   "cell_type": "code",
   "execution_count": 38,
   "id": "0836b939-d755-46be-8b0c-fe4f684f914d",
   "metadata": {},
   "outputs": [
    {
     "name": "stdout",
     "output_type": "stream",
     "text": [
      "{'Ada': 'Punto', 'Ben': 'Multipla', 'Charlie': 'Golf', 'Debbie': '107'}\n",
      "107\n"
     ]
    }
   ],
   "source": [
    "#Esercizio 13: Creare un dizionario che assegna l'auto al proprietario e stampare dizionario + auto associata a Debbie\n",
    "dict = {\"Ada\": \"Punto\",\n",
    "        \"Ben\": \"Multipla\",\n",
    "        \"Charlie\": \"Golf\",\n",
    "        \"Debbie\": \"107\"}\n",
    "print(dict)     #Stampo il dizionario\n",
    "print(dict[\"Debbie\"])     #Stampo solo l'auto associata a Debbie"
   ]
  },
  {
   "cell_type": "code",
   "execution_count": 46,
   "id": "5521cc8f-7003-476e-a60d-546439d1556a",
   "metadata": {},
   "outputs": [
    {
     "name": "stdout",
     "output_type": "stream",
     "text": [
      "Punto\n",
      "Golf\n",
      "107\n"
     ]
    }
   ],
   "source": [
    "#Esercizio 14: Stampare tutte le auto che non sono una Multipla usando un ciclo e il metodo .values()\n",
    "dict = {\"Ada\": \"Punto\",\n",
    "        \"Ben\": \"Multipla\",\n",
    "        \"Charlie\": \"Golf\",\n",
    "        \"Debbie\": \"107\"}\n",
    "\n",
    "for auto in dict.values():     #Scorro tutti i valori del dizionario (le auto)\n",
    "    if auto != \"Multipla\":     #Se questo valore (l'auto) è diverso da \"Multipla\"\n",
    "        print(auto)       #Stampo il valore (l'auto)"
   ]
  },
  {
   "cell_type": "code",
   "execution_count": 47,
   "id": "5924dbf1-c501-49c1-bdd4-fc4124968c05",
   "metadata": {},
   "outputs": [
    {
     "name": "stdout",
     "output_type": "stream",
     "text": [
      "{'Ada': 'Punto', 'Ben': 'Polo', 'Charlie': 'Golf', 'Debbie': '107', 'Emily': 'A1', 'Fred': 'Octavia', 'Grace': 'Yaris', 'Hugh': 'Clio'}\n"
     ]
    }
   ],
   "source": [
    "#Esercizio 15: Aggiorno un dizionario (cosa succede a Ben?)\n",
    "dizionario_auto = {\"Ada\": \"Punto\", \"Ben\": \"Multipla\", \"Charlie\": \"Golf\", \"Debbie\": \"107\", \"Emily\": \"A1\"}     #Primo dizionario\n",
    "nuovi_proprietari = {\"Ben\": \"Polo\", \"Fred\": \"Octavia\", \"Grace\": \"Yaris\", \"Hugh\": \"Clio\"}     #Secondo dizionario\n",
    "\n",
    "dizionario_auto.update(nuovi_proprietari)     #Aggiorno il primo dizionario con il secondo\n",
    "print(dizionario_auto)     #Stampo il primo dizionario aggiornato"
   ]
  },
  {
   "cell_type": "code",
   "execution_count": null,
   "id": "16480ec1-5926-4541-bee7-89290df653b4",
   "metadata": {},
   "outputs": [],
   "source": []
  }
 ],
 "metadata": {
  "kernelspec": {
   "display_name": "Python 3 (ipykernel)",
   "language": "python",
   "name": "python3"
  },
  "language_info": {
   "codemirror_mode": {
    "name": "ipython",
    "version": 3
   },
   "file_extension": ".py",
   "mimetype": "text/x-python",
   "name": "python",
   "nbconvert_exporter": "python",
   "pygments_lexer": "ipython3",
   "version": "3.12.7"
  }
 },
 "nbformat": 4,
 "nbformat_minor": 5
}
