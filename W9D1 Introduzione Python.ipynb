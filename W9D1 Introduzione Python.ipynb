{
 "cells": [
  {
   "cell_type": "code",
   "execution_count": 55,
   "id": "da9aa419-8f85-4aac-9315-c3db38f6e941",
   "metadata": {},
   "outputs": [
    {
     "name": "stdout",
     "output_type": "stream",
     "text": [
      "Scrivo la lista della spesa\n",
      "Esco di casa\n",
      "Vado al supermercato\n",
      "Metto nel carrello gli alimenti presenti sulla lista della spesa\n",
      "Pago alla cassa gli alimenti messi nel carrello\n",
      "Esco dal supermercato con gli alimenti comprati\n",
      "Torno a casa\n"
     ]
    }
   ],
   "source": [
    "# Esercizio 1.1: Algoritmo - Fare la spesa\n",
    "print(\"Scrivo la lista della spesa\")\n",
    "print(\"Esco di casa\")\n",
    "print(\"Vado al supermercato\")\n",
    "print(\"Metto nel carrello gli alimenti presenti sulla lista della spesa\")\n",
    "print(\"Pago alla cassa gli alimenti messi nel carrello\")\n",
    "print(\"Esco dal supermercato con gli alimenti comprati\")\n",
    "print(\"Torno a casa\")"
   ]
  },
  {
   "cell_type": "code",
   "execution_count": 56,
   "id": "a0d5e384-7248-4b43-9dfe-65e855618ff0",
   "metadata": {},
   "outputs": [
    {
     "name": "stdout",
     "output_type": "stream",
     "text": [
      "Accendo il PC\n",
      "Apro il browser\n",
      "Apro il corso di Epicode\n",
      "Seleziono M2.Database & SQL\n",
      "Apro le slide sulla progettazione concettuale\n",
      "Leggo le slide\n",
      "Prendo appunti per 30 minuti\n",
      "Faccio esercizi di pratica per 30 minuti\n",
      "Chiudo il browser\n",
      "Spengo il PC\n"
     ]
    }
   ],
   "source": [
    "# Esercizio 1.2: Algoritmo - Studiare un concetto\n",
    "print(\"Accendo il PC\")\n",
    "print(\"Apro il browser\")\n",
    "print(\"Apro il corso di Epicode\")\n",
    "print(\"Seleziono M2.Database & SQL\")\n",
    "print(\"Apro le slide sulla progettazione concettuale\")\n",
    "print(\"Leggo le slide\")\n",
    "print(\"Prendo appunti per 30 minuti\")\n",
    "print(\"Faccio esercizi di pratica per 30 minuti\")\n",
    "print(\"Chiudo il browser\")\n",
    "print(\"Spengo il PC\")"
   ]
  },
  {
   "cell_type": "code",
   "execution_count": 57,
   "id": "8e43e5da-6ba1-409c-b8c2-f019b9369d54",
   "metadata": {},
   "outputs": [
    {
     "name": "stdout",
     "output_type": "stream",
     "text": [
      "Apro le finestre\n",
      "Svuoto i cestini\n",
      "Spolvero\n",
      "Tolgo la biancheria vecchia\n",
      "Pulisco il bagno\n",
      "Rifornisco i saponi\n",
      "Rifornisco la carta igienica\n",
      "Rifornisco la biancheria pulita\n",
      "Controllo il funzionamento dei dispositivi elettronici\n",
      "Pulisco i vetri\n",
      "Passo l'aspirapolvere\n",
      "Lavo il pavimento\n"
     ]
    }
   ],
   "source": [
    "# Esercizio 1.3: Algoritmo - Pulire una camera d'albergo al check-out\n",
    "print(\"Apro le finestre\")\n",
    "print(\"Svuoto i cestini\")\n",
    "print(\"Spolvero\")\n",
    "print(\"Tolgo la biancheria vecchia\")\n",
    "print(\"Pulisco il bagno\")\n",
    "print(\"Rifornisco i saponi\")\n",
    "print(\"Rifornisco la carta igienica\")\n",
    "print(\"Rifornisco la biancheria pulita\")\n",
    "print(\"Controllo il funzionamento dei dispositivi elettronici\")\n",
    "print(\"Pulisco i vetri\")\n",
    "print(\"Passo l'aspirapolvere\")\n",
    "print(\"Lavo il pavimento\")"
   ]
  },
  {
   "cell_type": "code",
   "execution_count": 58,
   "id": "ef9542aa-6d87-4b65-a77a-8266c79cd103",
   "metadata": {
    "scrolled": true
   },
   "outputs": [
    {
     "name": "stdout",
     "output_type": "stream",
     "text": [
      "25\n"
     ]
    }
   ],
   "source": [
    "# Esercizio 2.1: Memorizzo un dato in una variabile\n",
    "n_studenti = 25\n",
    "\n",
    "# Esercizio 2.2: Stampo la variabile\n",
    "n_studenti = 25\n",
    "print(n_studenti)"
   ]
  },
  {
   "cell_type": "code",
   "execution_count": 59,
   "id": "cbcb27b0-806d-40f8-8452-e8c3ae520c77",
   "metadata": {
    "scrolled": true
   },
   "outputs": [
    {
     "name": "stdout",
     "output_type": "stream",
     "text": [
      "28\n"
     ]
    }
   ],
   "source": [
    "# Esercizio 2.3: Aggiungo 3 studenti alla variabile\n",
    "n_studenti = 25\n",
    "nuovi_studenti = 3\n",
    "\n",
    "# Esercizio 2.4: Aggiungo una variabile con il totale degli studenti e stampo\n",
    "n_studenti = 25\n",
    "nuovi_studenti = 3\n",
    "tot_studenti = n_studenti + nuovi_studenti\n",
    "print(tot_studenti)"
   ]
  },
  {
   "cell_type": "code",
   "execution_count": 60,
   "id": "470b9613-4934-413b-a9a5-08b5bc799368",
   "metadata": {},
   "outputs": [],
   "source": [
    "# Esercizio 3: Creo una variabile contenente \"Epicode\"\n",
    "istituto = \"Epicode\""
   ]
  },
  {
   "cell_type": "code",
   "execution_count": 61,
   "id": "2d44dfd5-5495-46fa-953f-3a2f948aeccd",
   "metadata": {},
   "outputs": [
    {
     "name": "stdout",
     "output_type": "stream",
     "text": [
      "36\n"
     ]
    }
   ],
   "source": [
    "# Esercizio 4: Incremento la variabile x = 2 di 2 e la moltiplico per 3\n",
    "\n",
    "x = 10\n",
    "x = x + 2\n",
    "x = x * 3\n",
    "print(x)"
   ]
  },
  {
   "cell_type": "code",
   "execution_count": 62,
   "id": "afc4f170-c9ac-4326-9f63-befe8e27fb34",
   "metadata": {},
   "outputs": [
    {
     "name": "stdout",
     "output_type": "stream",
     "text": [
      "7\n",
      "5\n",
      "10\n",
      "4\n"
     ]
    }
   ],
   "source": [
    "# Esercizio 5: Creo stringhe e ne verifico la lunghezza\n",
    "str1 = \"Windows\"\n",
    "print(len(str1))\n",
    "str2 = \"Excel\"\n",
    "print(len(str2))\n",
    "str3 = \"PowerPoint\"\n",
    "print(len(str3))\n",
    "str4 = \"Word\"\n",
    "print(len(str4))"
   ]
  },
  {
   "cell_type": "code",
   "execution_count": 63,
   "id": "c59c9adf-fc17-4b7f-897e-18fe42d52bde",
   "metadata": {},
   "outputs": [
    {
     "name": "stdout",
     "output_type": "stream",
     "text": [
      "31536000\n"
     ]
    }
   ],
   "source": [
    "# Esercizio 6: Calcolo quanti secondi ci sono in un anno\n",
    "secondi_in_minuto = 60\n",
    "minuti_in_ora = 60\n",
    "ore_in_giorno = 24\n",
    "giorni_in_anno = 365\n",
    "secondi_in_ora = secondi_in_minuto * minuti_in_ora\n",
    "secondi_in_giorno = secondi_in_ora * ore_in_giorno\n",
    "secondi_in_anno = secondi_in_giorno * giorni_in_anno\n",
    "print(secondi_in_anno)\n"
   ]
  },
  {
   "cell_type": "code",
   "execution_count": 64,
   "id": "433b0112-a691-4fb1-aef1-7ae97c4b456e",
   "metadata": {},
   "outputs": [
    {
     "name": "stdout",
     "output_type": "stream",
     "text": [
      "I AM STUDYING PYTHON\n"
     ]
    }
   ],
   "source": [
    "# Esercizio 7.1: Trasformo stringa in completo maiuscolo\n",
    "my_string = \"I am studying Python\"\n",
    "print(str.upper(my_string))"
   ]
  },
  {
   "cell_type": "code",
   "execution_count": 65,
   "id": "eacec9f1-f452-4cb9-9474-b5d3fb0136ca",
   "metadata": {},
   "outputs": [
    {
     "name": "stdout",
     "output_type": "stream",
     "text": [
      "i am studying python\n"
     ]
    }
   ],
   "source": [
    "# Esercizio 7.2: Trasformo stringa in completo minuscolo\n",
    "my_string = \"I am studying Python\"\n",
    "print(str.lower(my_string))"
   ]
  },
  {
   "cell_type": "code",
   "execution_count": 66,
   "id": "eb29ec78-b0b7-4008-a51f-2dbf390d968c",
   "metadata": {},
   "outputs": [
    {
     "name": "stdout",
     "output_type": "stream",
     "text": [
      "I am studying a lot\n"
     ]
    }
   ],
   "source": [
    "# Esercizio 7.3: Sostituisco la sottostringa \"Python\" in \"a lot\"\n",
    "my_string = \"I am studying Python\"\n",
    "new_string = my_string.replace(\"Python\", \"a lot\")\n",
    "print(new_string)"
   ]
  },
  {
   "cell_type": "code",
   "execution_count": 67,
   "id": "27bfbfd4-75aa-4c6d-ac16-ea74f9eeb45f",
   "metadata": {},
   "outputs": [
    {
     "name": "stdout",
     "output_type": "stream",
     "text": [
      "I am studying Python\n"
     ]
    }
   ],
   "source": [
    "# Esercizio 7.4: Uso il metodo .strip() e descrivo cosa cambia\n",
    "my_string = \"I am studying Python\"\n",
    "print(str.strip(my_string))\n",
    "\n",
    "# Non cambia nulla perché non ci sono spazi vuoti all'inizio o alla fine della stringa"
   ]
  },
  {
   "cell_type": "code",
   "execution_count": 68,
   "id": "8183485c-1eb4-4ad1-a400-7765d31b29f1",
   "metadata": {},
   "outputs": [
    {
     "name": "stdout",
     "output_type": "stream",
     "text": [
      "['I', 'am', 'studying', 'Python']\n"
     ]
    }
   ],
   "source": [
    "# Esercizio 7.5: Uso il metodo .split() per trovare tutte le parole\n",
    "my_string = \"I am studying Python\"\n",
    "token_parole = my_string.split(\" \")\n",
    "print(token_parole)"
   ]
  },
  {
   "cell_type": "code",
   "execution_count": 69,
   "id": "9a3869e3-d40b-4f5e-ae99-9dfae83224fc",
   "metadata": {},
   "outputs": [
    {
     "name": "stdout",
     "output_type": "stream",
     "text": [
      "['Alex', 'Bob', 'Cindy', 'Dan', 'Emma', 'Faith', 'Grace', 'Henry']\n",
      "['Cybersecurity', 'Data Analyst', 'Backend', 'Frontend', 'Data Analyst', 'Backend', 'Frontend', 'Cybersecurity']\n"
     ]
    }
   ],
   "source": [
    "# Esercizio 8: Completo le liste con i dati mancanti usando .append()\n",
    "studenti = [\"Alex\", \"Bob\", \"Cindy\", \"Dan\", \"Emma\", \"Faith\", \"Grace\", \"Henry\"]\n",
    "corsi = [\"Cybersecurity\", \"Data Analyst\", \"Backend\", \"Frontend\", \"Data Analyst\", \"Backend\"]\n",
    "corsi.append(\"Frontend\")\n",
    "corsi.append(\"Cybersecurity\")\n",
    "print(studenti)\n",
    "print(corsi)"
   ]
  }
 ],
 "metadata": {
  "kernelspec": {
   "display_name": "Python 3 (ipykernel)",
   "language": "python",
   "name": "python3"
  },
  "language_info": {
   "codemirror_mode": {
    "name": "ipython",
    "version": 3
   },
   "file_extension": ".py",
   "mimetype": "text/x-python",
   "name": "python",
   "nbconvert_exporter": "python",
   "pygments_lexer": "ipython3",
   "version": "3.12.7"
  }
 },
 "nbformat": 4,
 "nbformat_minor": 5
}
