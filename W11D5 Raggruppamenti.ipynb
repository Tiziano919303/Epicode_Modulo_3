{
 "cells": [
  {
   "cell_type": "code",
   "execution_count": 7,
   "id": "442701a0-a1cd-46d8-be7e-9484910783f5",
   "metadata": {},
   "outputs": [
    {
     "name": "stdout",
     "output_type": "stream",
     "text": [
      "Dimensioni (righe, colonne): (2635, 9)\n"
     ]
    }
   ],
   "source": [
    "# Esercizio 1: Analizzo dati \"mappa dei pub, circoli, locali in Italia\"\n",
    "\n",
    "# Importo pandas\n",
    "import pandas as pd\n",
    "\n",
    "# Inserisco il percorso del csv scaricato (uso doppi backslash altrimenti il singolo viene interpretato come carattere speciale)\n",
    "file_path = 'C:\\\\Users\\\\alice\\\\Downloads\\\\Mappa-dei-pub-circoli-locali-in-Italia.csv'\n",
    "\n",
    "# Il dataset non ha un encoding UTF-8 ma Latin1; inoltre il separatore non è una virgola, ma un punto e virgola.\n",
    "# Dunque per leggerlo dovremo aggiungere i parametri encoding= e sep=\n",
    "\n",
    "# Leggo il CSV con encoding latin1 e separatore punto e virgola\n",
    "df = pd.read_csv(file_path, encoding='latin1', sep=';')\n",
    "\n",
    "# Esercizi di esplorazione\n",
    "# Quanti dati ci sono (righe e colonne)?\n",
    "\n",
    "# Cerco il numero di righe e colonne con .shape\n",
    "print(\"Dimensioni (righe, colonne):\", df.shape)\n"
   ]
  },
  {
   "cell_type": "code",
   "execution_count": 8,
   "id": "d4a726c0-79a8-4008-bc7f-407a5bfc88d2",
   "metadata": {},
   "outputs": [
    {
     "name": "stdout",
     "output_type": "stream",
     "text": [
      "Nomi colonne: ['Comune', 'Provincia', 'Regione', 'Nome', 'Anno inserimento', 'Data e ora inserimento', 'Identificatore in OpenStreetMap', 'Longitudine', 'Latitudine']\n"
     ]
    }
   ],
   "source": [
    "# Cerco i metadati (nomi colonne)\n",
    "# Mostra i nomi di tutte le colonne del DataFrame\n",
    "print(\"Nomi colonne:\", df.columns.tolist())\n"
   ]
  },
  {
   "cell_type": "code",
   "execution_count": 9,
   "id": "6f5a9572-f186-4a81-b529-eb9a19fb1862",
   "metadata": {},
   "outputs": [
    {
     "name": "stdout",
     "output_type": "stream",
     "text": [
      "Primo record:\n",
      " Comune                                            ALTRO\n",
      "Provincia                                         ALTRO\n",
      "Regione                                           ALTRO\n",
      "Nome                                                NaN\n",
      "Anno inserimento                                   2011\n",
      "Data e ora inserimento             2011-06-25T23:17:43Z\n",
      "Identificatore in OpenStreetMap              1339088150\n",
      "Longitudine                                   13.733257\n",
      "Latitudine                                     45.57583\n",
      "Name: 0, dtype: object\n"
     ]
    }
   ],
   "source": [
    "# Stampo il primo elemento (prima riga)\n",
    "print(\"Prima riga:\\n\", df.iloc[0])    # .iloc[0] mostra la riga all'indice zero (la prima)\n"
   ]
  },
  {
   "cell_type": "code",
   "execution_count": 10,
   "id": "077b4b10-bc71-4b9c-8dde-70113589b196",
   "metadata": {},
   "outputs": [
    {
     "name": "stdout",
     "output_type": "stream",
     "text": [
      "Ultima riga:\n",
      " Comune                                             TRANI\n",
      "Provincia                          BARLETTA-ANDRIA-TRANI\n",
      "Regione                                           Puglia\n",
      "Nome                                        Well's Fargo\n",
      "Anno inserimento                                    2009\n",
      "Data e ora inserimento              2009-08-10T12:44:03Z\n",
      "Identificatore in OpenStreetMap                387223648\n",
      "Longitudine                                    16.436765\n",
      "Latitudine                                     41.267264\n",
      "Name: 2634, dtype: object\n"
     ]
    }
   ],
   "source": [
    "# Stampo l'ultimo elemento (ultima riga)\n",
    "print(\"Ultima riga:\\n\", df.iloc[-1])    # .iloc[-1] accede all'ultima riga\n"
   ]
  },
  {
   "cell_type": "code",
   "execution_count": 11,
   "id": "6fa0b193-caf5-41f9-9cd6-b82c4e08702b",
   "metadata": {},
   "outputs": [
    {
     "name": "stdout",
     "output_type": "stream",
     "text": [
      "Una riga a caso:\n",
      "      Comune                       Provincia    Regione            Nome  \\\n",
      "502  MILANO  CITTA' METROPOLITANA DI MILANO  Lombardia  Frizzi & Lazzi   \n",
      "\n",
      "     Anno inserimento Data e ora inserimento  Identificatore in OpenStreetMap  \\\n",
      "502              2009   2009-11-08T20:42:54Z                        559731854   \n",
      "\n",
      "     Longitudine  Latitudine  \n",
      "502     9.178393   45.445554  \n"
     ]
    }
   ],
   "source": [
    "# Stampo un elemento a caso\n",
    "print(\"Una riga a caso:\\n\", df.sample(1))    # .sample(1) restituisce una riga casuale"
   ]
  },
  {
   "cell_type": "code",
   "execution_count": 14,
   "id": "8133069c-2137-4cf6-9ee9-ac2d07d7b63c",
   "metadata": {},
   "outputs": [
    {
     "name": "stdout",
     "output_type": "stream",
     "text": [
      "Anni presenti: [2007, 2008, 2009, 2010, 2011, 2012, 2013, 2014, 2015, 2016]\n"
     ]
    }
   ],
   "source": [
    "# Cerco gli anni di inserimento presenti\n",
    "anni = df['Anno inserimento'].unique()    # Cerco i valori unici della colonna 'Anno inserimento'\n",
    "print(\"Anni presenti:\", sorted(anni))\n"
   ]
  },
  {
   "cell_type": "code",
   "execution_count": 15,
   "id": "ac8258a0-664f-4cc1-b109-b2ec71a876d1",
   "metadata": {},
   "outputs": [
    {
     "name": "stdout",
     "output_type": "stream",
     "text": [
      "Numero attività nel quadrato: 306\n"
     ]
    }
   ],
   "source": [
    "# Cerco le attività nel quadrato di longitudine 9–10 e latitudine 45–46\n",
    "masking_quadrato = (\n",
    "    (df['Longitudine'] >= 9) & (df['Longitudine'] <= 10) &\n",
    "    (df['Latitudine'] >= 45) & (df['Latitudine'] <= 46)    # Creo un masking filtrando secondo i range indicati\n",
    ")\n",
    "df_quadrato = df[masking_quadrato]    # Salvo il masking in una variabile\n",
    "print(\"Numero attività nel quadrato:\", len(df_quadrato))    # Uso len() per trovare il numero di attività nel masking\n"
   ]
  },
  {
   "cell_type": "code",
   "execution_count": 16,
   "id": "c9beb8a5-5f07-410c-8f79-a6ef9ee1c3e4",
   "metadata": {},
   "outputs": [
    {
     "name": "stdout",
     "output_type": "stream",
     "text": [
      "Numero attività a Vicenza: 73\n"
     ]
    }
   ],
   "source": [
    "# Cerco le attività nella provincia di Vicenza\n",
    "df_vicenza = df[df['Provincia'].str.contains('Vicenza', case=False, na=False)]    # Uso contains per trovare tutti i valori che contengono 'Vicenza'\n",
    "                                                                                  # 'case=False' ignora maiusc/minusc; 'na=False' serve per non andare\n",
    "                                                                                  # in errore se ci sono valori mananti (NaN) nella colonna\n",
    "print(\"Numero attività a Vicenza:\", len(df_vicenza))    # Uso len() per trovare il numero di attività"
   ]
  },
  {
   "cell_type": "code",
   "execution_count": 17,
   "id": "27f51440-3759-417f-bf4b-4de11d142b2b",
   "metadata": {},
   "outputs": [
    {
     "name": "stdout",
     "output_type": "stream",
     "text": [
      "Totale enoteche: 6\n",
      "Nomi delle enoteche:\n",
      "['Enoteca con Cucina\"\"Tirolin\"\"' 'Concordia Enoteca' 'Enoteca Umberto'\n",
      " 'Enoteca \"\"Al Brindisi\"\"' 'Enoteca \"\"da Massimo\"\"'\n",
      " 'Enoteca Il Violino Rosso']\n"
     ]
    }
   ],
   "source": [
    "# Cerco numero e nome delle enoteche\n",
    "df_enoteche = df[df['Nome'].str.contains('enoteca', case=False, na=False)]    # Filtro le righe che contengono la parola \"enoteca\" nel 'Nome' dell'attività\n",
    "\n",
    "print(\"Totale enoteche:\", len(df_enoteche))    # Conto le enoteche\n",
    "\n",
    "print(\"Nomi delle enoteche:\")\n",
    "print(df_enoteche['Nome'].unique())    # Cerco i nomi delle enoteche\n"
   ]
  },
  {
   "cell_type": "code",
   "execution_count": 18,
   "id": "90f4bdcb-e908-458a-8d0d-59fe15f9b9b3",
   "metadata": {},
   "outputs": [
    {
     "name": "stdout",
     "output_type": "stream",
     "text": [
      "Totale attività (Lazio + Abruzzo): 337\n"
     ]
    }
   ],
   "source": [
    "# Cerco numero di attività in Lazio e Abruzzo\n",
    "df_regioni = df[df['Regione'].isin(['Lazio', 'Abruzzo'])]    # Filtro in base alla colonna 'Regione'\n",
    "print(\"Totale attività (Lazio + Abruzzo):\", len(df_regioni))    # Uso len() per trovare numero attività\n"
   ]
  },
  {
   "cell_type": "code",
   "execution_count": 20,
   "id": "1d8c407c-7c7d-4259-8815-b65d9b406078",
   "metadata": {},
   "outputs": [
    {
     "name": "stdout",
     "output_type": "stream",
     "text": [
      "Dimensioni: (1338, 7)\n",
      "Anteprima:\n",
      "   age     sex     bmi  children smoker     region      charges\n",
      "0   19  female  27.900         0    yes  southwest  16884.92400\n",
      "1   18    male  33.770         1     no  southeast   1725.55230\n",
      "2   28    male  33.000         3     no  southeast   4449.46200\n",
      "3   33    male  22.705         0     no  northwest  21984.47061\n",
      "4   32    male  28.880         0     no  northwest   3866.85520\n",
      "Nomi colonne: ['age', 'sex', 'bmi', 'children', 'smoker', 'region', 'charges']\n"
     ]
    }
   ],
   "source": [
    "# Esercizio 2: Analizzo dati su caratteristiche e abitudini delle persone rispetto ai costi individuali per le cure mediche\n",
    "#come premio per le assicurazioni sulla salute.\n",
    "\n",
    "# Importo pandas\n",
    "import pandas as pd\n",
    "\n",
    "# Inserisco il csv scaricato e lo adatto come DataFrame per Pandas\n",
    "df = pd.read_csv('C:\\\\Users\\\\alice\\\\Downloads\\\\insurance.csv')\n",
    "\n",
    "# Visualizzo num righe e colonne, le prime 5 righe e i nomi delle colonne\n",
    "print(\"Dimensioni:\", df.shape)    #Cerco numero di righe e colonne con .shape\n",
    "\n",
    "print(\"Anteprima:\")\n",
    "print(df.head())    # Cerco prime 5 righe\n",
    "\n",
    "print(\"Nomi colonne:\", df.columns.tolist())    # Cerco nomi delle colonne\n",
    "\n"
   ]
  },
  {
   "cell_type": "code",
   "execution_count": 26,
   "id": "5dd70d6c-a6c7-495a-a06a-6ac2ed9821ce",
   "metadata": {},
   "outputs": [
    {
     "name": "stdout",
     "output_type": "stream",
     "text": [
      "Media costi per regione:\n",
      "region\n",
      "northeast    13406.384516\n",
      "northwest    12417.575374\n",
      "southeast    14735.411438\n",
      "southwest    12346.937377\n",
      "Name: charges, dtype: float64\n"
     ]
    }
   ],
   "source": [
    "# Cerco le medie di 'charges' rispetto a 'region'\n",
    "media_per_regione = df.groupby('region')['charges'].mean()    # Calcolo la media dei costi per ciascuna regione (groupby + mean)\n",
    "print(\"Media costi per regione:\")\n",
    "print(media_per_regione)\n"
   ]
  },
  {
   "cell_type": "code",
   "execution_count": 22,
   "id": "79e31e81-b3ed-46fe-b4cd-50e2ce5720a1",
   "metadata": {},
   "outputs": [
    {
     "name": "stdout",
     "output_type": "stream",
     "text": [
      "Media costi per fumatore:\n",
      "smoker\n",
      "no      8434.268298\n",
      "yes    32050.231832\n",
      "Name: charges, dtype: float64\n",
      "Media costi per sesso:\n",
      "sex\n",
      "female    12569.578844\n",
      "male      13956.751178\n",
      "Name: charges, dtype: float64\n"
     ]
    }
   ],
   "source": [
    "# Cerco le medie di 'charges' rispetto a 'smoker' o 'sex'\n",
    "media_per_fumatore = df.groupby('smoker')['charges'].mean()    # Calcolo la media dei costi per fumatori / non fumatori\n",
    "print(\"Media costi per fumatore:\")\n",
    "print(media_per_fumatore)\n",
    "\n",
    "media_per_sesso = df.groupby('sex')['charges'].mean()    # Calcolo la media dei costi per sesso\n",
    "print(\"Media costi per sesso:\")\n",
    "print(media_per_sesso)\n"
   ]
  },
  {
   "cell_type": "code",
   "execution_count": 23,
   "id": "23416855-e4e0-457e-930e-5c410ef01415",
   "metadata": {},
   "outputs": [
    {
     "name": "stdout",
     "output_type": "stream",
     "text": [
      "Statistiche BMI:\n",
      "count    1338.000000\n",
      "mean       30.663397\n",
      "std         6.098187\n",
      "min        15.960000\n",
      "25%        26.296250\n",
      "50%        30.400000\n",
      "75%        34.693750\n",
      "max        53.130000\n",
      "Name: bmi, dtype: float64\n"
     ]
    }
   ],
   "source": [
    "# Cerco statistiche del 'bmi' (indice di massa corporea)\n",
    "print(\"Statistiche BMI:\")\n",
    "print(df['bmi'].describe())    # Con describe trovo conteggio, media, deviazione standard, minimo, quartili e massimo\n"
   ]
  },
  {
   "cell_type": "code",
   "execution_count": 25,
   "id": "235a39a9-dd19-4b09-ab10-875ab23a7e0e",
   "metadata": {},
   "outputs": [
    {
     "name": "stdout",
     "output_type": "stream",
     "text": [
      "Statistiche costi per quartile BMI:\n",
      "                    min          mean          max\n",
      "bmi_quartile                                      \n",
      "Q1            1121.8739  10360.662825  38245.59327\n",
      "Q2            1131.5066  11407.831468  62592.87309\n",
      "Q3            1135.9407  14358.173081  60021.39897\n",
      "Q4            1141.4451  16987.936691  63770.42801\n"
     ]
    },
    {
     "name": "stderr",
     "output_type": "stream",
     "text": [
      "C:\\Users\\alice\\AppData\\Local\\Temp\\ipykernel_7460\\61803664.py:4: FutureWarning: The default of observed=False is deprecated and will be changed to True in a future version of pandas. Pass observed=False to retain current behavior or observed=True to adopt the future default and silence this warning.\n",
      "  stats_by_quartile = df.groupby('bmi_quartile')['charges'].agg(['min', 'mean', 'max'])    # Raggruppo per quartile e calcolo statistiche su 'charges'\n"
     ]
    }
   ],
   "source": [
    "# Cerco minimo, media e massimo di 'charges' rispetto ai quartili di 'bmi'\n",
    "df['bmi_quartile'] = pd.qcut(df['bmi'], 4, labels=['Q1', 'Q2', 'Q3', 'Q4'])    # Creo una colonna 'bmi_quartile' suddividendo bmi in 4 fasce (quartili)\n",
    "\n",
    "stats_by_quartile = df.groupby('bmi_quartile')['charges'].agg(['min', 'mean', 'max'])    # Raggruppo per quartile e calcolo statistiche su 'charges'\n",
    "print(\"Statistiche costi per quartile BMI:\")\n",
    "print(stats_by_quartile)\n"
   ]
  },
  {
   "cell_type": "code",
   "execution_count": 54,
   "id": "d60207ae-779b-4a6b-b28b-b7f17955b3a6",
   "metadata": {},
   "outputs": [
    {
     "name": "stdout",
     "output_type": "stream",
     "text": [
      "Media lunghezza petali di tutto il df:\n",
      "3.76\n"
     ]
    }
   ],
   "source": [
    "# Esercizio 3: Analizzo dati del dataset 'iris'\n",
    "\n",
    "import pandas as pd    # Importo pandas\n",
    "\n",
    "df = pd.read_csv('C:\\\\Users\\\\alice\\\\Downloads\\\\iris.csv', header=None)    # Importo csv ma specifico io i nomi delle colonne, perché header=0 mi dà la prima riga\n",
    "df.columns = ['lungh_sepalo', 'largh_sepalo', 'lungh_petali', 'largh_petali', 'specie']    # Do i nomi alle colonne manualmente\n",
    "\n",
    "# Calcolo la media della lunghezza dei petali del dataset\n",
    "media_lungh_petali = (df['lungh_petali'].mean())\n",
    "\n",
    "print(\"Media lunghezza petali di tutto il df:\")\n",
    "print(round(media_lungh_petali, 2))    #Arrotondo a due cifre decimali"
   ]
  },
  {
   "cell_type": "code",
   "execution_count": 51,
   "id": "fad217d7-4d2d-4930-b18d-d1767b49eedb",
   "metadata": {},
   "outputs": [
    {
     "name": "stdout",
     "output_type": "stream",
     "text": [
      "Media lunghezza petali per specie:\n",
      "                 mean\n",
      "specie               \n",
      "Iris-setosa      1.46\n",
      "Iris-versicolor  4.26\n",
      "Iris-virginica   5.55\n"
     ]
    }
   ],
   "source": [
    "# Calcolo la media della lunghezza dei petali per specie\n",
    "media_lungh_petali_per_specie = df.groupby('specie')['lungh_petali'].agg(['mean'])\n",
    "\n",
    "print(\"Media lunghezza petali per specie:\")\n",
    "print(round(media_lungh_petali_per_specie, 2))     #Arrotondo a due cifre decimali"
   ]
  },
  {
   "cell_type": "code",
   "execution_count": 52,
   "id": "cefe6eb9-9ce6-4c98-b28d-57ee3aa3abd0",
   "metadata": {},
   "outputs": [
    {
     "name": "stdout",
     "output_type": "stream",
     "text": [
      "Statistiche larghezza sepalo per specie:\n",
      "                 min  mean  max\n",
      "specie                         \n",
      "Iris-setosa      2.3  3.42  4.4\n",
      "Iris-versicolor  2.0  2.77  3.4\n",
      "Iris-virginica   2.2  2.97  3.8\n"
     ]
    }
   ],
   "source": [
    "# Calcolo media, minimo e massimo della larghezza dei sepali per ogni specie, utilizzando .groupby() e .agg()\n",
    "stat_largh_sepalo_per_specie = df.groupby('specie')['largh_sepalo'].agg(['min', 'mean', 'max']) \n",
    "\n",
    "print(\"Statistiche larghezza sepalo per specie:\")\n",
    "print(round(stat_largh_sepalo_per_specie, 2))     #Arrotondo a due cifre decimali"
   ]
  },
  {
   "cell_type": "code",
   "execution_count": 66,
   "id": "96a4857b-87e8-4b2a-97ea-c31e99f2420e",
   "metadata": {},
   "outputs": [
    {
     "name": "stdout",
     "output_type": "stream",
     "text": [
      "    type  fixed acidity  volatile acidity  citric acid  residual sugar  \\\n",
      "0  white            7.0              0.27         0.36            20.7   \n",
      "1  white            6.3              0.30         0.34             1.6   \n",
      "2  white            8.1              0.28         0.40             6.9   \n",
      "3  white            7.2              0.23         0.32             8.5   \n",
      "4  white            7.2              0.23         0.32             8.5   \n",
      "\n",
      "   chlorides  free sulfur dioxide  total sulfur dioxide  density    pH  \\\n",
      "0      0.045                 45.0                 170.0   1.0010  3.00   \n",
      "1      0.049                 14.0                 132.0   0.9940  3.30   \n",
      "2      0.050                 30.0                  97.0   0.9951  3.26   \n",
      "3      0.058                 47.0                 186.0   0.9956  3.19   \n",
      "4      0.058                 47.0                 186.0   0.9956  3.19   \n",
      "\n",
      "   sulphates  alcohol  quality  \n",
      "0       0.45      8.8        6  \n",
      "1       0.49      9.5        6  \n",
      "2       0.44     10.1        6  \n",
      "3       0.40      9.9        6  \n",
      "4       0.40      9.9        6  \n",
      "Nomi colonne: ['type', 'fixed acidity', 'volatile acidity', 'citric acid', 'residual sugar', 'chlorides', 'free sulfur dioxide', 'total sulfur dioxide', 'density', 'pH', 'sulphates', 'alcohol', 'quality']\n"
     ]
    }
   ],
   "source": [
    "# Esercizio 3: Analizzo dati del dataset 'wine'\n",
    "\n",
    "import pandas as pd    #Importo pandas\n",
    "df = pd.read_csv('C:\\\\Users\\\\alice\\\\Downloads\\\\vini.csv')    #Importo csv\n",
    "print(df.head())    # Mostro prime righe\n",
    "print(\"Nomi colonne:\", df.columns.tolist())    # Mostro nomi colonne"
   ]
  },
  {
   "cell_type": "code",
   "execution_count": 64,
   "id": "dfd9bc26-879c-4acb-961a-a6814e0407f8",
   "metadata": {},
   "outputs": [
    {
     "name": "stdout",
     "output_type": "stream",
     "text": [
      "Media alcol per qualità di vino:\n",
      "quality\n",
      "3    10.22\n",
      "4    10.18\n",
      "5     9.84\n",
      "6    10.59\n",
      "7    11.39\n",
      "8    11.68\n",
      "9    12.18\n",
      "Name: alcohol, dtype: float64\n"
     ]
    }
   ],
   "source": [
    "# Cerco la media della concentrazione alcolica per ogni qualità ('alcohol' per 'quality')\n",
    "media_alcol_per_vino = df.groupby('quality')['alcohol'].agg('mean')\n",
    "\n",
    "print(\"Media alcol per qualità di vino:\")\n",
    "print(round(media_alcol_per_vino, 2))\n"
   ]
  },
  {
   "cell_type": "code",
   "execution_count": 68,
   "id": "be843c11-4504-4a38-b1dd-243cbc7acd1b",
   "metadata": {},
   "outputs": [
    {
     "name": "stdout",
     "output_type": "stream",
     "text": [
      "Media alcol vini rossi:\n",
      "type\n",
      "red      10.42\n",
      "white    10.51\n",
      "Name: alcohol, dtype: float64\n"
     ]
    }
   ],
   "source": [
    "# Cerco differenze nella concentrazione alcolica tra vini rossi e bianchi ('alcohol' per 'type')\n",
    "media_alcol_per_colore = df.groupby('type')['alcohol'].agg('mean')\n",
    "\n",
    "print(\"Media alcol vini rossi:\")\n",
    "print(round(media_alcol_per_colore, 2))"
   ]
  },
  {
   "cell_type": "code",
   "execution_count": 69,
   "id": "74f8d951-b6e1-4ea2-a893-81f5434a7432",
   "metadata": {},
   "outputs": [
    {
     "name": "stdout",
     "output_type": "stream",
     "text": [
      "Media alcol per pH:\n",
      "pH\n",
      "2.72     9.70\n",
      "2.74    10.10\n",
      "2.77     9.40\n",
      "2.79    10.37\n",
      "2.80    11.20\n",
      "        ...  \n",
      "3.81    10.30\n",
      "3.82    10.50\n",
      "3.85    12.90\n",
      "3.90    12.95\n",
      "4.01    12.50\n",
      "Name: alcohol, Length: 108, dtype: float64\n"
     ]
    }
   ],
   "source": [
    "# Cerco la media della concentrazione alcolica per ogni pH ('alcohol' per 'pH')\n",
    "media_alcol_ph= df.groupby('pH')['alcohol'].agg('mean')\n",
    "\n",
    "print(\"Media alcol per pH:\")\n",
    "print(round(media_alcol_ph, 2))"
   ]
  },
  {
   "cell_type": "code",
   "execution_count": 70,
   "id": "6f5cf3d4-b935-4172-9a90-c6710382845c",
   "metadata": {},
   "outputs": [
    {
     "name": "stdout",
     "output_type": "stream",
     "text": [
      "Media alcol per solfato:\n",
      "sulphates\n",
      "0.22    13.40\n",
      "0.23    12.20\n",
      "0.25    11.80\n",
      "0.26    12.42\n",
      "0.27    12.33\n",
      "        ...  \n",
      "1.61     9.50\n",
      "1.62     9.50\n",
      "1.95     9.90\n",
      "1.98     9.80\n",
      "2.00     9.40\n",
      "Name: alcohol, Length: 111, dtype: float64\n"
     ]
    }
   ],
   "source": [
    "# Cerco la media della concentrazione alcolica per ogni solfato ('alcohol' per 'sulphates')\n",
    "media_alcol_solfato= df.groupby('sulphates')['alcohol'].agg('mean')\n",
    "\n",
    "print(\"Media alcol per solfato:\")\n",
    "print(round(media_alcol_solfato, 2))"
   ]
  },
  {
   "cell_type": "code",
   "execution_count": 71,
   "id": "7bd764a1-8250-41be-9578-707cacc8090f",
   "metadata": {},
   "outputs": [
    {
     "name": "stdout",
     "output_type": "stream",
     "text": [
      "   Unnamed: 0     crim    zn  indus  chas    nox     rm   age     dis  rad  \\\n",
      "0           1  0.00632  18.0   2.31     0  0.538  6.575  65.2  4.0900    1   \n",
      "1           2  0.02731   0.0   7.07     0  0.469  6.421  78.9  4.9671    2   \n",
      "2           3  0.02729   0.0   7.07     0  0.469  7.185  61.1  4.9671    2   \n",
      "3           4  0.03237   0.0   2.18     0  0.458  6.998  45.8  6.0622    3   \n",
      "4           5  0.06905   0.0   2.18     0  0.458  7.147  54.2  6.0622    3   \n",
      "\n",
      "   tax  ptratio   black  lstat  medv  \n",
      "0  296     15.3  396.90   4.98  24.0  \n",
      "1  242     17.8  396.90   9.14  21.6  \n",
      "2  242     17.8  392.83   4.03  34.7  \n",
      "3  222     18.7  394.63   2.94  33.4  \n",
      "4  222     18.7  396.90   5.33  36.2  \n",
      "Nomi colonne:  ['Unnamed: 0', 'crim', 'zn', 'indus', 'chas', 'nox', 'rm', 'age', 'dis', 'rad', 'tax', 'ptratio', 'black', 'lstat', 'medv']\n"
     ]
    }
   ],
   "source": [
    "#Esercizio: Analizzo dati del dataset 'Boston'\n",
    "import pandas as pd\n",
    "df = pd.read_csv('C:\\\\Users\\\\alice\\\\Downloads\\\\Boston.csv')\n",
    "print(df.head())\n",
    "print('Nomi colonne: ', df.columns.tolist())"
   ]
  },
  {
   "cell_type": "code",
   "execution_count": 75,
   "id": "5df4910e-4a25-475c-9325-be25db460190",
   "metadata": {},
   "outputs": [
    {
     "name": "stdout",
     "output_type": "stream",
     "text": [
      "Media del prezzo delle case in base alla vicinanza al fiume Charles:\n",
      "chas\n",
      "0    22.09\n",
      "1    28.44\n",
      "Name: medv, dtype: float64\n"
     ]
    }
   ],
   "source": [
    "# Controllo se la media del prezzo delle case ('medv') cambia a seconda della distanza dal fiume Charles ('chas', 0=lontano, 1=vicino)\n",
    "media_prezzo_case = df.groupby('chas')['medv'].agg('mean')\n",
    "\n",
    "print('Media del prezzo delle case in base alla vicinanza al fiume Charles:')\n",
    "print(round(media_prezzo_case, 2))"
   ]
  },
  {
   "cell_type": "code",
   "execution_count": 77,
   "id": "cfec969f-706c-4b52-b5fe-515d243f0c8c",
   "metadata": {},
   "outputs": [
    {
     "data": {
      "image/png": "[encoded data removed]",
      "text/plain": [
       "<Figure size 640x480 with 1 Axes>"
      ]
     },
     "metadata": {},
     "output_type": "display_data"
    }
   ],
   "source": [
    "# Cerco correlazioni tra tasso di criminalità ('crim') e valore delle abitazioni ('medv')\n",
    "import matplotlib.pyplot as plt    #Importo grafico scatterplot\n",
    "\n",
    "plt.scatter(df['crim'], df['medv'], alpha=0.5)    # Creo il grafico (alpha=0.5 serve per vedere meglio i punti)\n",
    "plt.title('Criminalità vs Valore case')    # Titolo del grafico\n",
    "plt.xlabel('Tasso di criminalità')    # Titolo asse X\n",
    "plt.ylabel('Valore mediano case')    # Titolo asse Y\n",
    "plt.show()    # Mostro il grafico\n",
    "\n"
   ]
  },
  {
   "cell_type": "code",
   "execution_count": 87,
   "id": "2d95f123-8c42-4e5f-aff2-4bedab41af0e",
   "metadata": {},
   "outputs": [
    {
     "name": "stdout",
     "output_type": "stream",
     "text": [
      "Rapporto numero studenti/numero delle stanze\n",
      "ptratio\n",
      "12.6    7.22\n",
      "13.0    7.41\n",
      "13.6    7.92\n",
      "14.4    7.88\n",
      "14.7    6.25\n",
      "14.8    6.75\n",
      "14.9    7.31\n",
      "15.1    6.82\n",
      "15.2    6.42\n",
      "15.3    6.71\n",
      "15.5    7.24\n",
      "15.6    6.70\n",
      "15.9    7.00\n",
      "16.0    6.23\n",
      "16.1    6.43\n",
      "16.4    6.14\n",
      "16.6    6.34\n",
      "16.8    6.15\n",
      "16.9    6.02\n",
      "17.0    6.87\n",
      "17.3    6.38\n",
      "17.4    7.21\n",
      "17.6    6.82\n",
      "17.8    6.50\n",
      "17.9    6.13\n",
      "18.0    7.22\n",
      "18.2    6.28\n",
      "18.3    6.52\n",
      "18.4    6.29\n",
      "18.5    6.29\n",
      "18.6    6.11\n",
      "18.7    6.41\n",
      "18.8    5.96\n",
      "18.9    5.79\n",
      "19.0    6.45\n",
      "19.1    6.23\n",
      "19.2    6.05\n",
      "19.6    6.22\n",
      "19.7    6.30\n",
      "20.1    5.59\n",
      "20.2    6.02\n",
      "20.9    6.27\n",
      "21.0    6.04\n",
      "21.1    5.89\n",
      "21.2    6.03\n",
      "22.0    5.80\n",
      "Name: rm, dtype: float64\n"
     ]
    }
   ],
   "source": [
    "# Calcolo la media del numero delle stanze ('rm') rispetto al rapporto allunni-insegnanti ('ptratio')\n",
    "rm_per_ptratio = df.groupby('ptratio')['rm'].agg('mean')\n",
    "\n",
    "print('Rapporto numero studenti/numero delle stanze')\n",
    "print(round(rm_per_ptratio, 2))\n",
    "\n",
    "#Scopriamo che il numero di studenti aumenta al diminuire delle stanze."
   ]
  },
  {
   "cell_type": "code",
   "execution_count": 88,
   "id": "7521ed0b-724c-4c79-9804-e4e24863c3e5",
   "metadata": {},
   "outputs": [
    {
     "name": "stdout",
     "output_type": "stream",
     "text": [
      "Rapporto valore delle case/numero di stanze:\n",
      "medv\n",
      "5.0     5.57\n",
      "5.6     5.99\n",
      "6.3     5.85\n",
      "7.0     4.97\n",
      "7.2     6.02\n",
      "        ... \n",
      "46.7    7.69\n",
      "48.3    8.25\n",
      "48.5    7.85\n",
      "48.8    8.40\n",
      "50.0    7.48\n",
      "Name: rm, Length: 229, dtype: float64\n"
     ]
    }
   ],
   "source": [
    "# Calcolo la media del numero delle stanze ('rm') rispetto al valore delle case ('medv')\n",
    "rm_per_medv = df.groupby('medv')['rm'].agg('mean')\n",
    "\n",
    "print('Rapporto valore delle case/numero di stanze:')\n",
    "print(round(rm_per_medv, 2))\n",
    "\n",
    "#Scopriamo che il valore delle case aumenta all'aumentare delle stanze."
   ]
  },
  {
   "cell_type": "code",
   "execution_count": 89,
   "id": "e22840f1-5ca6-4915-a9bd-4c47f7d72922",
   "metadata": {},
   "outputs": [
    {
     "name": "stdout",
     "output_type": "stream",
     "text": [
      "Rapporto accessibilità alle autostrade/età delle case:\n",
      "rad\n",
      "1     45.02\n",
      "2     64.77\n",
      "3     49.31\n",
      "4     60.84\n",
      "5     69.22\n",
      "6     60.14\n",
      "7     40.14\n",
      "8     67.35\n",
      "24    89.81\n",
      "Name: age, dtype: float64\n"
     ]
    }
   ],
   "source": [
    "# Calcolo la media dell'età delle case ('age') rispetto all'accessibilità alle autostrade ('rad', più è alto e più è accessibile)\n",
    "eta_per_rad = df.groupby('rad')['age'].agg('mean')\n",
    "\n",
    "print('Rapporto accessibilità alle autostrade/età delle case:')\n",
    "print(round(eta_per_rad, 2))\n",
    "\n",
    "# Scopriamo che alcune zone con maggiore accessibilità alle autostrade hanno case vecchie"
   ]
  },
  {
   "cell_type": "code",
   "execution_count": 91,
   "id": "8be1a06a-418a-44db-a43a-3ad0f154263d",
   "metadata": {},
   "outputs": [
    {
     "name": "stdout",
     "output_type": "stream",
     "text": [
      "Rapporto numero stanze/età delle case:\n",
      "rm\n",
      "3.561     87.9\n",
      "3.863    100.0\n",
      "4.138    100.0\n",
      "4.368     91.2\n",
      "4.519    100.0\n",
      "         ...  \n",
      "8.375     93.9\n",
      "8.398     91.5\n",
      "8.704     86.9\n",
      "8.725     83.0\n",
      "8.780     82.9\n",
      "Name: age, Length: 446, dtype: float64\n"
     ]
    }
   ],
   "source": [
    "# Calcolo la media dell'età delle case ('age') rispetto al numero di stanze ('rm')\n",
    "eta_per_rm = df.groupby('rm')['age'].agg('mean')\n",
    "\n",
    "print('Rapporto numero stanze/età delle case:')\n",
    "print(round(eta_per_rm, 2))\n",
    "\n",
    "# Scopriamo che non c'è molta differenza nel numero delle stanze tra case più vecchie e case più nuove."
   ]
  },
  {
   "cell_type": "code",
   "execution_count": 92,
   "id": "12cdea82-4f98-4f72-841e-6e2d5a487b70",
   "metadata": {},
   "outputs": [
    {
     "name": "stdout",
     "output_type": "stream",
     "text": [
      "Rapporto tasse sulle case/età delle case:\n",
      "tax\n",
      "187    36.10\n",
      "188    89.07\n",
      "193    75.49\n",
      "198    24.80\n",
      "216    48.62\n",
      "       ...  \n",
      "432    81.74\n",
      "437    97.17\n",
      "469    47.60\n",
      "666    89.81\n",
      "711    94.26\n",
      "Name: age, Length: 66, dtype: float64\n"
     ]
    }
   ],
   "source": [
    "# Calcolo la media dell'età delle case ('age') rispetto alle tasse sulle case ('tax')\n",
    "eta_per_tax = df.groupby('tax')['age'].agg('mean')\n",
    "\n",
    "print('Rapporto tasse sulle case/età delle case:')\n",
    "print(round(eta_per_tax, 2))"
   ]
  },
  {
   "cell_type": "code",
   "execution_count": null,
   "id": "7057a7d9-2927-4679-8e10-ed87436d565f",
   "metadata": {},
   "outputs": [],
   "source": []
  }
 ],
 "metadata": {
  "kernelspec": {
   "display_name": "Python 3 (ipykernel)",
   "language": "python",
   "name": "python3"
  },
  "language_info": {
   "codemirror_mode": {
    "name": "ipython",
    "version": 3
   },
   "file_extension": ".py",
   "mimetype": "text/x-python",
   "name": "python",
   "nbconvert_exporter": "python",
   "pygments_lexer": "ipython3",
   "version": "3.12.7"
  }
 },
 "nbformat": 4,
 "nbformat_minor": 5
}
