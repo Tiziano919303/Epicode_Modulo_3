{
 "cells": [
  {
   "cell_type": "code",
   "execution_count": 10,
   "id": "52d4431e-e018-4926-ab43-83b9bb71f20e",
   "metadata": {},
   "outputs": [
    {
     "name": "stdout",
     "output_type": "stream",
     "text": [
      "Anteprima:\n",
      "                          status_id status_type status_published  \\\n",
      "0  246675545449582_1649696485147474       video   4/22/2018 6:00   \n",
      "1  246675545449582_1649426988507757       photo  4/21/2018 22:45   \n",
      "2  246675545449582_1648730588577397       video   4/21/2018 6:17   \n",
      "3  246675545449582_1648576705259452       photo   4/21/2018 2:29   \n",
      "4  246675545449582_1645700502213739       photo   4/18/2018 3:22   \n",
      "\n",
      "   num_reactions  num_comments  num_shares  num_likes  num_loves  num_wows  \\\n",
      "0            529           512         262        432         92         3   \n",
      "1            150             0           0        150          0         0   \n",
      "2            227           236          57        204         21         1   \n",
      "3            111             0           0        111          0         0   \n",
      "4            213             0           0        204          9         0   \n",
      "\n",
      "   num_hahas  num_sads  num_angrys  \n",
      "0          1         1           0  \n",
      "1          0         0           0  \n",
      "2          1         0           0  \n",
      "3          0         0           0  \n",
      "4          0         0           0  \n"
     ]
    }
   ],
   "source": [
    "#Esercizio: analisi dati Facebook\n",
    "\n",
    "#Importo Pandas e carico il csv come dataframe\n",
    "import pandas as pd\n",
    "df = pd.read_csv('C:\\\\Users\\\\alice\\\\Downloads\\\\facebook.csv')\n",
    "\n",
    "#Controllo i nomi delle colonne e le prime 5 righe\n",
    "print(\"Anteprima:\")\n",
    "print(df.head())"
   ]
  },
  {
   "cell_type": "code",
   "execution_count": 12,
   "id": "826c0bd3-9780-46e2-98a9-0c8fd114a211",
   "metadata": {},
   "outputs": [
    {
     "name": "stdout",
     "output_type": "stream",
     "text": [
      "     status_published\n",
      "0 2018-04-22 06:00:00\n",
      "1 2018-04-21 22:45:00\n",
      "2 2018-04-21 06:17:00\n",
      "3 2018-04-21 02:29:00\n",
      "4 2018-04-18 03:22:00\n"
     ]
    }
   ],
   "source": [
    "#Converto la colonna 'status_published' in formato Timestamp\n",
    "df[\"status_published\"] = pd.to_datetime(df[\"status_published\"])\n",
    "print(df[[\"status_published\"]].head())"
   ]
  },
  {
   "cell_type": "code",
   "execution_count": 15,
   "id": "b514ddb0-3df1-4161-bc30-b258fbf0130f",
   "metadata": {},
   "outputs": [
    {
     "name": "stdout",
     "output_type": "stream",
     "text": [
      "   Anno  Mese  Giorno  GiornoSettimana  GiornoAnno\n",
      "0  2018     4      22                6         112\n",
      "1  2018     4      21                5         111\n",
      "2  2018     4      21                5         111\n",
      "3  2018     4      21                5         111\n",
      "4  2018     4      18                2         108\n"
     ]
    }
   ],
   "source": [
    "#Estraggo anno, mese, giorno, giorno della settimana e giorno dell'anno dalla colonna 'status_published'\n",
    "df[\"Anno\"] = df[\"status_published\"].dt.year\n",
    "df[\"Mese\"] = df[\"status_published\"].dt.month\n",
    "df[\"Giorno\"] = df[\"status_published\"].dt.day\n",
    "df[\"GiornoSettimana\"] = df[\"status_published\"].dt.dayofweek\n",
    "df[\"GiornoAnno\"] = df[\"status_published\"].dt.dayofyear\n",
    "print(df[[\"Anno\", \"Mese\", \"Giorno\", \"GiornoSettimana\", \"GiornoAnno\"]].head())"
   ]
  },
  {
   "cell_type": "code",
   "execution_count": 16,
   "id": "1153cbb9-3cf7-4179-af95-d5a75ac24318",
   "metadata": {},
   "outputs": [
    {
     "name": "stdout",
     "output_type": "stream",
     "text": [
      "Post nel 2012: 589\n"
     ]
    }
   ],
   "source": [
    "#Estraggo solo post relativi al 2012\n",
    "Post2012 = df[df[\"Anno\"] == 2012][\"status_id\"].count()\n",
    "print(\"Post nel 2012:\", Post2012)"
   ]
  },
  {
   "cell_type": "code",
   "execution_count": 17,
   "id": "878a9252-5db6-4aef-8bb0-c718d50b260e",
   "metadata": {},
   "outputs": [
    {
     "name": "stdout",
     "output_type": "stream",
     "text": [
      "Post nel maggio 2018: 595\n"
     ]
    }
   ],
   "source": [
    "#Estraggo solo post relativi a maggio 2018\n",
    "Post052018 = df[(df[\"Anno\"] == 2018) & (df[\"Mese\"] == 5)][\"status_id\"].count()\n",
    "print(\"Post nel maggio 2018:\", Post052018)"
   ]
  },
  {
   "cell_type": "code",
   "execution_count": 18,
   "id": "8bac57d3-3e42-41c2-9f16-f595b11116c9",
   "metadata": {},
   "outputs": [
    {
     "name": "stdout",
     "output_type": "stream",
     "text": [
      "Numero di post nei weekend: 2041\n",
      "Numero di post nei giorni feriali: 5009\n"
     ]
    }
   ],
   "source": [
    "#Confronto il numero di post pubblicati nei weekend rispetto al numero di post pubblicati nel resto della settimana\n",
    "df[\"Weekend\"] = df[\"GiornoSettimana\"].isin([5, 6])    #Creo una colonna booleana per il sabato (5) e la domenica (6)\n",
    "post_weekend = df[df[\"Weekend\"]][\"status_id\"].count()    #Conto i post nei weekend\n",
    "post_feriali = df[~df[\"Weekend\"]][\"status_id\"].count()    #Conto i post nel resto della settimana\n",
    "\n",
    "print(f\"Numero di post nei weekend: {post_weekend}\")\n",
    "print(f\"Numero di post nei giorni feriali: {post_feriali}\")"
   ]
  },
  {
   "cell_type": "code",
   "execution_count": 21,
   "id": "e6b262d1-e61e-436c-aa23-d9aac479db6d",
   "metadata": {},
   "outputs": [
    {
     "name": "stdout",
     "output_type": "stream",
     "text": [
      "Primo post per anno: Anno\n",
      "2012   2012-07-15 02:51:00\n",
      "2013   2013-01-02 02:23:00\n",
      "2014   2014-01-05 09:23:00\n",
      "2015   2015-01-02 03:41:00\n",
      "2016   2016-01-03 04:23:00\n",
      "2017   2017-01-02 08:25:00\n",
      "2018   2018-01-01 01:39:00\n",
      "Name: status_published, dtype: datetime64[ns]\n",
      "Ultimo post per anno: Anno\n",
      "2012   2012-12-23 03:11:00\n",
      "2013   2013-12-31 23:38:00\n",
      "2014   2014-12-10 07:42:00\n",
      "2015   2015-12-31 08:20:00\n",
      "2016   2016-12-31 05:13:00\n",
      "2017   2017-12-31 22:15:00\n",
      "2018   2018-06-13 01:12:00\n",
      "Name: status_published, dtype: datetime64[ns]\n"
     ]
    }
   ],
   "source": [
    "#Trovo il primo e l'ultimo post di ogni anno\n",
    "primo_post = df.groupby(\"Anno\")[\"status_published\"].min()\n",
    "ultimo_post = df.groupby(\"Anno\")[\"status_published\"].max()\n",
    "\n",
    "print(f\"Primo post per anno: {primo_post}\")\n",
    "print(f\"Ultimo post per anno: {ultimo_post}\")"
   ]
  },
  {
   "cell_type": "code",
   "execution_count": 23,
   "id": "4a15c3c3-e1be-4e16-8775-4d4c5c07656d",
   "metadata": {},
   "outputs": [
    {
     "name": "stdout",
     "output_type": "stream",
     "text": [
      "Tipi di post: ['video' 'photo' 'link' 'status']\n",
      "\n",
      "Numero di post per tipo: status_type\n",
      "photo     4288\n",
      "video     2334\n",
      "status     365\n",
      "link        63\n",
      "Name: count, dtype: int64\n"
     ]
    }
   ],
   "source": [
    "#Trovo i tipi di post e il numero per ogni tipo\n",
    "tipi_post = df[\"status_type\"].unique()\n",
    "print(f\"Tipi di post: {tipi_post}\")\n",
    "\n",
    "conteggio_per_tipo = df[\"status_type\"].value_counts()\n",
    "print(f\"\\nNumero di post per tipo: {conteggio_per_tipo}\")\n"
   ]
  },
  {
   "cell_type": "code",
   "execution_count": 24,
   "id": "1ec64b07-7258-4273-bbc8-ba094e9a5e78",
   "metadata": {},
   "outputs": [
    {
     "name": "stdout",
     "output_type": "stream",
     "text": [
      "Anteprima:\n",
      "                     abilities  against_bug  against_dark  against_dragon  \\\n",
      "0  ['Overgrow', 'Chlorophyll']          1.0           1.0             1.0   \n",
      "1  ['Overgrow', 'Chlorophyll']          1.0           1.0             1.0   \n",
      "2  ['Overgrow', 'Chlorophyll']          1.0           1.0             1.0   \n",
      "3     ['Blaze', 'Solar Power']          0.5           1.0             1.0   \n",
      "4     ['Blaze', 'Solar Power']          0.5           1.0             1.0   \n",
      "\n",
      "   against_electric  against_fairy  against_fight  against_fire  \\\n",
      "0               0.5            0.5            0.5           2.0   \n",
      "1               0.5            0.5            0.5           2.0   \n",
      "2               0.5            0.5            0.5           2.0   \n",
      "3               1.0            0.5            1.0           0.5   \n",
      "4               1.0            0.5            1.0           0.5   \n",
      "\n",
      "   against_flying  against_ghost  ...  percentage_male  pokedex_number  \\\n",
      "0             2.0            1.0  ...             88.1               1   \n",
      "1             2.0            1.0  ...             88.1               2   \n",
      "2             2.0            1.0  ...             88.1               3   \n",
      "3             1.0            1.0  ...             88.1               4   \n",
      "4             1.0            1.0  ...             88.1               5   \n",
      "\n",
      "   sp_attack  sp_defense  speed  type1   type2  weight_kg  generation  \\\n",
      "0         65          65     45  grass  poison        6.9           1   \n",
      "1         80          80     60  grass  poison       13.0           1   \n",
      "2        122         120     80  grass  poison      100.0           1   \n",
      "3         60          50     65   fire     NaN        8.5           1   \n",
      "4         80          65     80   fire     NaN       19.0           1   \n",
      "\n",
      "   is_legendary  \n",
      "0             0  \n",
      "1             0  \n",
      "2             0  \n",
      "3             0  \n",
      "4             0  \n",
      "\n",
      "[5 rows x 41 columns]\n"
     ]
    }
   ],
   "source": [
    "#Esercizio: Analisi dati Pokémon\n",
    "\n",
    "#Importo pandas e carico il csv come dataframe\n",
    "import pandas as pd\n",
    "df = pd.read_csv('C:\\\\Users\\\\alice\\\\Downloads\\\\pokemon.csv')\n",
    "\n",
    "#Controllo i nomi delle colonne e le prime 5 righe\n",
    "print(\"Anteprima:\")\n",
    "print(df.head())"
   ]
  },
  {
   "cell_type": "code",
   "execution_count": 25,
   "id": "11bcc27f-69a4-4b92-aab0-99b2f282aca3",
   "metadata": {},
   "outputs": [
    {
     "name": "stdout",
     "output_type": "stream",
     "text": [
      "abilities              0\n",
      "against_bug            0\n",
      "against_dark           0\n",
      "against_dragon         0\n",
      "against_electric       0\n",
      "against_fairy          0\n",
      "against_fight          0\n",
      "against_fire           0\n",
      "against_flying         0\n",
      "against_ghost          0\n",
      "against_grass          0\n",
      "against_ground         0\n",
      "against_ice            0\n",
      "against_normal         0\n",
      "against_poison         0\n",
      "against_psychic        0\n",
      "against_rock           0\n",
      "against_steel          0\n",
      "against_water          0\n",
      "attack                 0\n",
      "base_egg_steps         0\n",
      "base_happiness         0\n",
      "base_total             0\n",
      "capture_rate           0\n",
      "classfication          0\n",
      "defense                0\n",
      "experience_growth      0\n",
      "height_m              20\n",
      "hp                     0\n",
      "japanese_name          0\n",
      "name                   0\n",
      "percentage_male       98\n",
      "pokedex_number         0\n",
      "sp_attack              0\n",
      "sp_defense             0\n",
      "speed                  0\n",
      "type1                  0\n",
      "type2                384\n",
      "weight_kg             20\n",
      "generation             0\n",
      "is_legendary           0\n",
      "dtype: int64\n"
     ]
    }
   ],
   "source": [
    "#Controllo quanti valori nulli ci sono\n",
    "valori_nulli = df.isnull().sum()\n",
    "print(valori_nulli)"
   ]
  },
  {
   "cell_type": "code",
   "execution_count": 26,
   "id": "72171576-e41d-4361-87d6-062f48996195",
   "metadata": {},
   "outputs": [
    {
     "name": "stdout",
     "output_type": "stream",
     "text": [
      "Righe prima del dropna: 801\n",
      "Righe dopo il dropna: 339\n"
     ]
    }
   ],
   "source": [
    "#Considerazioni sul senso di riempire o meno i valori nulli: nel caso di 'type2' non ha senso perché il campo indica\n",
    "#che il Pokémon non ha un secondo tipo. Nel campo 'percentage_male' non ha senso perché il campo indica che quel Pokémon\n",
    "#può essere soltanto di sesso femminile. Nei campi peso e altezza, invece, non mi è chiaro il motivo dei valori nulli; \n",
    "#suppongo che sia perché si riferiscono a Pokémon con più di una forma e non si vuole creare confusione.\n",
    "\n",
    "#Elimino tutte le righe con valori nulli\n",
    "df_clean = df.dropna()\n",
    "print(f\"Righe prima del dropna: {len(df)}\")\n",
    "print(f\"Righe dopo il dropna: {len(df_clean)}\")\n"
   ]
  },
  {
   "cell_type": "code",
   "execution_count": 30,
   "id": "cf759e67-6f8d-4324-8d55-87071bb9c593",
   "metadata": {},
   "outputs": [
    {
     "name": "stdout",
     "output_type": "stream",
     "text": [
      "   symboling  normalized-losses         make fuel-type aspiration  \\\n",
      "0          3                NaN  alfa-romero       gas        std   \n",
      "1          3                NaN  alfa-romero       gas        std   \n",
      "2          1                NaN  alfa-romero       gas        std   \n",
      "3          2              164.0         audi       gas        std   \n",
      "4          2              164.0         audi       gas        std   \n",
      "\n",
      "  num-of-doors   body-style drive-wheels engine-location  wheel-base  ...  \\\n",
      "0          two  convertible          rwd           front        88.6  ...   \n",
      "1          two  convertible          rwd           front        88.6  ...   \n",
      "2          two    hatchback          rwd           front        94.5  ...   \n",
      "3         four        sedan          fwd           front        99.8  ...   \n",
      "4         four        sedan          4wd           front        99.4  ...   \n",
      "\n",
      "   engine-size  fuel-system  bore  stroke compression-ratio horsepower  \\\n",
      "0          130         mpfi  3.47    2.68               9.0      111.0   \n",
      "1          130         mpfi  3.47    2.68               9.0      111.0   \n",
      "2          152         mpfi  2.68    3.47               9.0      154.0   \n",
      "3          109         mpfi  3.19    3.40              10.0      102.0   \n",
      "4          136         mpfi  3.19    3.40               8.0      115.0   \n",
      "\n",
      "   peak-rpm city-mpg  highway-mpg    price  \n",
      "0    5000.0       21           27  13495.0  \n",
      "1    5000.0       21           27  16500.0  \n",
      "2    5000.0       19           26  16500.0  \n",
      "3    5500.0       24           30  13950.0  \n",
      "4    5500.0       18           22  17450.0  \n",
      "\n",
      "[5 rows x 26 columns]\n"
     ]
    }
   ],
   "source": [
    "#Esercizio: analisi dati automobili\n",
    "\n",
    "#Importo pandas e carico csv\n",
    "import pandas as pd\n",
    "df = pd.read_csv('C:\\\\Users\\\\alice\\\\Downloads\\\\Automobile_data.csv', na_values=[\"?\"])   #Noto che i NaN sono indicati con '?', quindi devo specificarlo\n",
    "anteprima = df.head()\n",
    "print(anteprima)"
   ]
  },
  {
   "cell_type": "code",
   "execution_count": 31,
   "id": "782b2483-c103-42ba-aee3-f52bf5c8e853",
   "metadata": {},
   "outputs": [
    {
     "name": "stdout",
     "output_type": "stream",
     "text": [
      "symboling             0\n",
      "normalized-losses    41\n",
      "make                  0\n",
      "fuel-type             0\n",
      "aspiration            0\n",
      "num-of-doors          2\n",
      "body-style            0\n",
      "drive-wheels          0\n",
      "engine-location       0\n",
      "wheel-base            0\n",
      "length                0\n",
      "width                 0\n",
      "height                0\n",
      "curb-weight           0\n",
      "engine-type           0\n",
      "num-of-cylinders      0\n",
      "engine-size           0\n",
      "fuel-system           0\n",
      "bore                  4\n",
      "stroke                4\n",
      "compression-ratio     0\n",
      "horsepower            2\n",
      "peak-rpm              2\n",
      "city-mpg              0\n",
      "highway-mpg           0\n",
      "price                 4\n",
      "dtype: int64\n"
     ]
    }
   ],
   "source": [
    "#Controllo i valori nulli\n",
    "valori_nulli = df.isnull().sum()\n",
    "print(valori_nulli)"
   ]
  },
  {
   "cell_type": "code",
   "execution_count": 34,
   "id": "0d8a391e-20b5-44a4-86b4-877ac008004a",
   "metadata": {},
   "outputs": [
    {
     "data": {
      "text/plain": [
       "Index([27, 63], dtype='int64')"
      ]
     },
     "execution_count": 34,
     "metadata": {},
     "output_type": "execute_result"
    }
   ],
   "source": [
    "#Controllo quali righe hanno valori nulli in 'num-of-doors' (risultato: la 27 e la 63)\n",
    "df[df['num-of-doors'].isnull()].index"
   ]
  },
  {
   "cell_type": "code",
   "execution_count": 36,
   "id": "59ea4f5c-8e92-48d6-9ccf-1797601f43d6",
   "metadata": {},
   "outputs": [
    {
     "data": {
      "text/html": [
       "<div>\n",
       "<style scoped>\n",
       "    .dataframe tbody tr th:only-of-type {\n",
       "        vertical-align: middle;\n",
       "    }\n",
       "\n",
       "    .dataframe tbody tr th {\n",
       "        vertical-align: top;\n",
       "    }\n",
       "\n",
       "    .dataframe thead th {\n",
       "        text-align: right;\n",
       "    }\n",
       "</style>\n",
       "<table border=\"1\" class=\"dataframe\">\n",
       "  <thead>\n",
       "    <tr style=\"text-align: right;\">\n",
       "      <th></th>\n",
       "      <th>make</th>\n",
       "      <th>body-style</th>\n",
       "      <th>num-of-doors</th>\n",
       "    </tr>\n",
       "  </thead>\n",
       "  <tbody>\n",
       "    <tr>\n",
       "      <th>27</th>\n",
       "      <td>dodge</td>\n",
       "      <td>sedan</td>\n",
       "      <td>NaN</td>\n",
       "    </tr>\n",
       "    <tr>\n",
       "      <th>63</th>\n",
       "      <td>mazda</td>\n",
       "      <td>sedan</td>\n",
       "      <td>NaN</td>\n",
       "    </tr>\n",
       "  </tbody>\n",
       "</table>\n",
       "</div>"
      ],
      "text/plain": [
       "     make body-style num-of-doors\n",
       "27  dodge      sedan          NaN\n",
       "63  mazda      sedan          NaN"
      ]
     },
     "execution_count": 36,
     "metadata": {},
     "output_type": "execute_result"
    }
   ],
   "source": [
    "#Considerazione: ci sono due tipi di automobile in cui mancano dati nel campo del numero delle porte.\n",
    "#Possibili motivi: auto con configurazioni particolari o veicoli non convenzionali (commerciali, prototipi, ecc)\n",
    "#Cerco quali sono i modelli con i dati mancanti per le porte\n",
    "df[df['num-of-doors'].isnull()][['make', 'body-style', 'num-of-doors']]"
   ]
  },
  {
   "cell_type": "code",
   "execution_count": null,
   "id": "1a78bdde-281a-40e0-8cc3-bc38dafeb79f",
   "metadata": {},
   "outputs": [],
   "source": [
    "#Considerazione finale sui dati mancanti: se il body-style è sedan, allora molto probabilmente hanno 4 porte\n",
    "#e quindi si tratta semplicemente di info mancanti."
   ]
  },
  {
   "cell_type": "code",
   "execution_count": 39,
   "id": "66403fe0-7de7-4cbf-a6bb-9b7c882d9a84",
   "metadata": {},
   "outputs": [
    {
     "name": "stdout",
     "output_type": "stream",
     "text": [
      "Dati:\n",
      "    Giorno  Temperature\n",
      "0        0         18.0\n",
      "1        1         19.0\n",
      "2        2         18.0\n",
      "3        3          NaN\n",
      "4        4         21.0\n",
      "5        5         20.0\n",
      "6        6         20.0\n",
      "7        7          NaN\n",
      "8        8         21.0\n",
      "9        9         23.0\n",
      "10      10          NaN\n",
      "11      11         23.0\n",
      "12      12         24.0\n",
      "\n",
      "Valori nulli in 'Temperature':\n",
      "3\n",
      "\n",
      "Dati dopo interpolazione:\n",
      "    Giorno  Temperature  Temperature_interpolata\n",
      "0        0         18.0                     18.0\n",
      "1        1         19.0                     19.0\n",
      "2        2         18.0                     18.0\n",
      "3        3          NaN                     19.5\n",
      "4        4         21.0                     21.0\n",
      "5        5         20.0                     20.0\n",
      "6        6         20.0                     20.0\n",
      "7        7          NaN                     20.5\n",
      "8        8         21.0                     21.0\n",
      "9        9         23.0                     23.0\n",
      "10      10          NaN                     23.0\n",
      "11      11         23.0                     23.0\n",
      "12      12         24.0                     24.0\n"
     ]
    }
   ],
   "source": [
    "#Esercizio: analisi dataframe dummy\n",
    "\n",
    "#Importo librerie\n",
    "import numpy as np\n",
    "import pandas as pd\n",
    "\n",
    "#Importo il DataFrame con i dati\n",
    "temp = pd.DataFrame({\n",
    "    \"Giorno\": list(range(13)),  # da 0 a 12\n",
    "    \"Temperature\": [18, 19, 18, np.nan, 21, 20, 20, np.nan, 21, 23, np.nan, 23, 24]\n",
    "})\n",
    "\n",
    "#Visualizzo i datii\n",
    "print(\"Dati:\")\n",
    "print(temp)\n",
    "\n",
    "#Controllo quanti valori mancanti ci sono nella colonna Temperature\n",
    "print(\"\\nValori nulli in 'Temperature':\")\n",
    "print(temp['Temperature'].isnull().sum())\n",
    "\n",
    "#Eseguo l'interpolazione per riempire i NaN (stima basata sui dati vicini a quelli mancanti)\n",
    "temp['Temperature_interpolata'] = temp['Temperature'].interpolate()\n",
    "\n",
    "#Visualizzo il DataFrame dopo interpolazione\n",
    "print(\"\\nDati dopo interpolazione:\")\n",
    "print(temp)\n"
   ]
  },
  {
   "cell_type": "code",
   "execution_count": null,
   "id": "ca823c80-f063-480f-91ae-ea2e6b2f03ed",
   "metadata": {},
   "outputs": [],
   "source": []
  }
 ],
 "metadata": {
  "kernelspec": {
   "display_name": "Python 3 (ipykernel)",
   "language": "python",
   "name": "python3"
  },
  "language_info": {
   "codemirror_mode": {
    "name": "ipython",
    "version": 3
   },
   "file_extension": ".py",
   "mimetype": "text/x-python",
   "name": "python",
   "nbconvert_exporter": "python",
   "pygments_lexer": "ipython3",
   "version": "3.12.7"
  }
 },
 "nbformat": 4,
 "nbformat_minor": 5
}
